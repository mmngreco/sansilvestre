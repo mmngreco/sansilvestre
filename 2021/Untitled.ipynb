{
 "cells": [
  {
   "cell_type": "markdown",
   "id": "f3a1e25c",
   "metadata": {},
   "source": [
    "# San Silvestre 2021"
   ]
  },
  {
   "cell_type": "code",
   "execution_count": 1,
   "id": "c3bbdc8e",
   "metadata": {},
   "outputs": [],
   "source": [
    "import pandas as pd\n",
    "from scipy import stats\n",
    "import numpy as np\n",
    "import matplotlib.pyplot as plt"
   ]
  },
  {
   "cell_type": "code",
   "execution_count": 2,
   "id": "a65d67d4",
   "metadata": {},
   "outputs": [
    {
     "data": {
      "text/plain": [
       "'%.2f'"
      ]
     },
     "execution_count": 2,
     "metadata": {},
     "output_type": "execute_result"
    }
   ],
   "source": [
    "pd.options.display.float_format = '{:,.2f}'.format\n",
    "np.set_printoptions(precision=2)\n",
    "%precision %.2f\n"
   ]
  },
  {
   "cell_type": "code",
   "execution_count": 3,
   "id": "994cc84a",
   "metadata": {},
   "outputs": [
    {
     "data": {
      "text/html": [
       "<div>\n",
       "<style scoped>\n",
       "    .dataframe tbody tr th:only-of-type {\n",
       "        vertical-align: middle;\n",
       "    }\n",
       "\n",
       "    .dataframe tbody tr th {\n",
       "        vertical-align: top;\n",
       "    }\n",
       "\n",
       "    .dataframe thead th {\n",
       "        text-align: right;\n",
       "    }\n",
       "</style>\n",
       "<table border=\"1\" class=\"dataframe\">\n",
       "  <thead>\n",
       "    <tr style=\"text-align: right;\">\n",
       "      <th></th>\n",
       "      <th>Dorsal</th>\n",
       "      <th>Nombre</th>\n",
       "      <th>Categ.</th>\n",
       "      <th>Puesto</th>\n",
       "      <th>P.Cat.</th>\n",
       "      <th>Tiempo</th>\n",
       "      <th>Ritmo Km.</th>\n",
       "      <th>Km. 2,5</th>\n",
       "      <th>Km. 5</th>\n",
       "      <th>Km. 7,5</th>\n",
       "      <th>TiempoMinutos</th>\n",
       "    </tr>\n",
       "  </thead>\n",
       "  <tbody>\n",
       "    <tr>\n",
       "      <th>0</th>\n",
       "      <td>36417</td>\n",
       "      <td>David Bascuñana Corrales</td>\n",
       "      <td>M-35</td>\n",
       "      <td>1</td>\n",
       "      <td>1</td>\n",
       "      <td>0:29:13</td>\n",
       "      <td>2'55\"/km</td>\n",
       "      <td>0:07:09</td>\n",
       "      <td>0:14:17</td>\n",
       "      <td>0:21:03</td>\n",
       "      <td>29.22</td>\n",
       "    </tr>\n",
       "    <tr>\n",
       "      <th>1</th>\n",
       "      <td>27702</td>\n",
       "      <td>Jaouad El Bissis El Bissis</td>\n",
       "      <td>M-35</td>\n",
       "      <td>2</td>\n",
       "      <td>2</td>\n",
       "      <td>0:29:18</td>\n",
       "      <td>2'55\"/km</td>\n",
       "      <td>0:07:09</td>\n",
       "      <td>0:14:17</td>\n",
       "      <td>0:21:09</td>\n",
       "      <td>29.30</td>\n",
       "    </tr>\n",
       "    <tr>\n",
       "      <th>2</th>\n",
       "      <td>29141</td>\n",
       "      <td>Luis Agustín Escriche</td>\n",
       "      <td>Sénior M</td>\n",
       "      <td>3</td>\n",
       "      <td>1</td>\n",
       "      <td>0:30:30</td>\n",
       "      <td>3'03\"/km</td>\n",
       "      <td>0:07:23</td>\n",
       "      <td>0:14:37</td>\n",
       "      <td>0:21:46</td>\n",
       "      <td>30.50</td>\n",
       "    </tr>\n",
       "    <tr>\n",
       "      <th>3</th>\n",
       "      <td>22312</td>\n",
       "      <td>Javier Martinez Fernández</td>\n",
       "      <td>M-35</td>\n",
       "      <td>4</td>\n",
       "      <td>3</td>\n",
       "      <td>0:30:48</td>\n",
       "      <td>3'04\"/km</td>\n",
       "      <td>0:07:24</td>\n",
       "      <td>0:14:54</td>\n",
       "      <td>0:22:07</td>\n",
       "      <td>30.80</td>\n",
       "    </tr>\n",
       "    <tr>\n",
       "      <th>4</th>\n",
       "      <td>10217</td>\n",
       "      <td>Sergio Salinero Miguel</td>\n",
       "      <td>M-35</td>\n",
       "      <td>5</td>\n",
       "      <td>4</td>\n",
       "      <td>0:30:59</td>\n",
       "      <td>3'05\"/km</td>\n",
       "      <td>0:07:25</td>\n",
       "      <td>0:14:54</td>\n",
       "      <td>0:22:10</td>\n",
       "      <td>30.98</td>\n",
       "    </tr>\n",
       "  </tbody>\n",
       "</table>\n",
       "</div>"
      ],
      "text/plain": [
       "   Dorsal                      Nombre    Categ.  Puesto  P.Cat.   Tiempo  \\\n",
       "0   36417    David Bascuñana Corrales      M-35       1       1  0:29:13   \n",
       "1   27702  Jaouad El Bissis El Bissis      M-35       2       2  0:29:18   \n",
       "2   29141       Luis Agustín Escriche  Sénior M       3       1  0:30:30   \n",
       "3   22312   Javier Martinez Fernández      M-35       4       3  0:30:48   \n",
       "4   10217      Sergio Salinero Miguel      M-35       5       4  0:30:59   \n",
       "\n",
       "  Ritmo Km.  Km. 2,5    Km. 5  Km. 7,5  TiempoMinutos  \n",
       "0  2'55\"/km  0:07:09  0:14:17  0:21:03          29.22  \n",
       "1  2'55\"/km  0:07:09  0:14:17  0:21:09          29.30  \n",
       "2  3'03\"/km  0:07:23  0:14:37  0:21:46          30.50  \n",
       "3  3'04\"/km  0:07:24  0:14:54  0:22:07          30.80  \n",
       "4  3'05\"/km  0:07:25  0:14:54  0:22:10          30.98  "
      ]
     },
     "execution_count": 3,
     "metadata": {},
     "output_type": "execute_result"
    }
   ],
   "source": [
    "data = pd.read_pickle(\"./asset/data.pkl\")\n",
    "data[\"TiempoMinutos\"] = data.Tiempo.apply(lambda x: pd.Timedelta(x).total_seconds() / 60)\n",
    "data.head()"
   ]
  },
  {
   "cell_type": "code",
   "execution_count": 4,
   "id": "91fc4575",
   "metadata": {},
   "outputs": [
    {
     "data": {
      "text/html": [
       "<div>\n",
       "<style scoped>\n",
       "    .dataframe tbody tr th:only-of-type {\n",
       "        vertical-align: middle;\n",
       "    }\n",
       "\n",
       "    .dataframe tbody tr th {\n",
       "        vertical-align: top;\n",
       "    }\n",
       "\n",
       "    .dataframe thead th {\n",
       "        text-align: right;\n",
       "    }\n",
       "</style>\n",
       "<table border=\"1\" class=\"dataframe\">\n",
       "  <thead>\n",
       "    <tr style=\"text-align: right;\">\n",
       "      <th></th>\n",
       "      <th>Dorsal</th>\n",
       "      <th>Nombre</th>\n",
       "      <th>Categ.</th>\n",
       "      <th>Puesto</th>\n",
       "      <th>P.Cat.</th>\n",
       "      <th>Tiempo</th>\n",
       "      <th>Ritmo Km.</th>\n",
       "      <th>Km. 2,5</th>\n",
       "      <th>Km. 5</th>\n",
       "      <th>Km. 7,5</th>\n",
       "      <th>TiempoMinutos</th>\n",
       "    </tr>\n",
       "  </thead>\n",
       "  <tbody>\n",
       "    <tr>\n",
       "      <th>0</th>\n",
       "      <td>31471</td>\n",
       "      <td>Maximiliano Greco</td>\n",
       "      <td>Sénior M</td>\n",
       "      <td>5746</td>\n",
       "      <td>1449</td>\n",
       "      <td>0:52:56</td>\n",
       "      <td>5'17\"/km</td>\n",
       "      <td>0:12:34</td>\n",
       "      <td>0:24:45</td>\n",
       "      <td>0:37:06</td>\n",
       "      <td>52.93</td>\n",
       "    </tr>\n",
       "  </tbody>\n",
       "</table>\n",
       "</div>"
      ],
      "text/plain": [
       "   Dorsal             Nombre    Categ.  Puesto  P.Cat.   Tiempo Ritmo Km.  \\\n",
       "0   31471  Maximiliano Greco  Sénior M    5746    1449  0:52:56  5'17\"/km   \n",
       "\n",
       "   Km. 2,5    Km. 5  Km. 7,5  TiempoMinutos  \n",
       "0  0:12:34  0:24:45  0:37:06          52.93  "
      ]
     },
     "execution_count": 4,
     "metadata": {},
     "output_type": "execute_result"
    }
   ],
   "source": [
    "mine = data.query(\"Nombre=='Maximiliano Greco'\")\n",
    "mine"
   ]
  },
  {
   "cell_type": "markdown",
   "id": "f53143e3",
   "metadata": {},
   "source": [
    "# Estadísticas"
   ]
  },
  {
   "cell_type": "markdown",
   "id": "17b30252",
   "metadata": {},
   "source": [
    "Cuánto tardé en completar la carrera? "
   ]
  },
  {
   "cell_type": "code",
   "execution_count": 16,
   "id": "7e3daf43",
   "metadata": {},
   "outputs": [
    {
     "data": {
      "text/plain": [
       "52.93"
      ]
     },
     "execution_count": 16,
     "metadata": {},
     "output_type": "execute_result"
    }
   ],
   "source": [
    "mine.TiempoMinutos.item()"
   ]
  },
  {
   "cell_type": "markdown",
   "id": "6603a980",
   "metadata": {},
   "source": [
    "De media, Cuánto tardaron los corredores en completar la carrera ? "
   ]
  },
  {
   "cell_type": "code",
   "execution_count": 20,
   "id": "7d6f791a",
   "metadata": {},
   "outputs": [
    {
     "data": {
      "text/plain": [
       "58.15"
      ]
     },
     "execution_count": 20,
     "metadata": {},
     "output_type": "execute_result"
    }
   ],
   "source": [
    "float(data.TiempoMinutos.mean())"
   ]
  },
  {
   "cell_type": "markdown",
   "id": "fd79e4c1",
   "metadata": {},
   "source": [
    "En qué percetil está mi tiempo ?"
   ]
  },
  {
   "cell_type": "code",
   "execution_count": 21,
   "id": "7e8eaa5a",
   "metadata": {},
   "outputs": [
    {
     "data": {
      "text/plain": [
       "35.03"
      ]
     },
     "execution_count": 21,
     "metadata": {},
     "output_type": "execute_result"
    }
   ],
   "source": [
    "stats.percentileofscore(data.TiempoMinutos, mine.TiempoMinutos.item())"
   ]
  },
  {
   "cell_type": "markdown",
   "id": "c8c2c732",
   "metadata": {},
   "source": [
    "Cuánto tardó el corredor mediano ?"
   ]
  },
  {
   "cell_type": "code",
   "execution_count": 22,
   "id": "d393ffbc",
   "metadata": {},
   "outputs": [
    {
     "data": {
      "text/plain": [
       "56.85"
      ]
     },
     "execution_count": 22,
     "metadata": {},
     "output_type": "execute_result"
    }
   ],
   "source": [
    "data.TiempoMinutos.median()"
   ]
  },
  {
   "cell_type": "markdown",
   "id": "76d9e7b3",
   "metadata": {},
   "source": [
    "Cuánto tardó el corredor que tardó menos que el 80% ? "
   ]
  },
  {
   "cell_type": "code",
   "execution_count": 23,
   "id": "1f6d1af7",
   "metadata": {},
   "outputs": [
    {
     "data": {
      "text/plain": [
       "48.75"
      ]
     },
     "execution_count": 23,
     "metadata": {},
     "output_type": "execute_result"
    }
   ],
   "source": [
    "data.TiempoMinutos.quantile(0.2)"
   ]
  },
  {
   "cell_type": "markdown",
   "id": "a279f5e1",
   "metadata": {},
   "source": [
    "# Plot"
   ]
  },
  {
   "cell_type": "code",
   "execution_count": 38,
   "id": "4b2c2b00",
   "metadata": {},
   "outputs": [
    {
     "data": {
      "image/png": "[encoded data removed]",
      "text/plain": [
       "<Figure size 1440x720 with 1 Axes>"
      ]
     },
     "metadata": {
      "needs_background": "light"
     },
     "output_type": "display_data"
    }
   ],
   "source": [
    "import seaborn as sns\n",
    "import matplotlib.pyplot as plt\n",
    "\n",
    "data.TiempoMinutos.hist(bins=20, density=True, figsize=(20,10))\n",
    "plt.axvline(mine.TiempoMinutos.item(), color=\"black\", linewidth=3, label=\"Mi tiempo\")\n",
    "plt.axvline(data.TiempoMinutos.mean(), color=\"red\", linewidth=3, label=\"Media\")\n",
    "plt.axvline(data.TiempoMinutos.median(), color=\"red\", linestyle=\"--\", linewidth=3, label=\"Mediana\")\n",
    "plt.tight_layout()\n",
    "plt.title(\"San Silvestre: Distribución de tiempo\", fontsize=40)\n",
    "plt.legend(fontsize=18)\n",
    "plt.xticks(fontsize=20)\n",
    "plt.yticks(fontsize=20)\n",
    "plt.xlabel(\"Minutos\", fontsize=20)\n",
    "plt.ylabel(\"%\", fontsize=20)\n",
    "plt.show()\n"
   ]
  },
  {
   "cell_type": "code",
   "execution_count": null,
   "id": "5dab42c0",
   "metadata": {},
   "outputs": [],
   "source": []
  }
 ],
 "metadata": {
  "kernelspec": {
   "display_name": "Python 3 (ipykernel)",
   "language": "python",
   "name": "python3"
  },
  "language_info": {
   "codemirror_mode": {
    "name": "ipython",
    "version": 3
   },
   "file_extension": ".py",
   "mimetype": "text/x-python",
   "name": "python",
   "nbconvert_exporter": "python",
   "pygments_lexer": "ipython3",
   "version": "3.7.11"
  }
 },
 "nbformat": 4,
 "nbformat_minor": 5
}
