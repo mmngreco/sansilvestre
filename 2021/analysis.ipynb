{
 "cells": [
  {
   "cell_type": "markdown",
   "id": "34a1bbe9",
   "metadata": {},
   "source": [
    "# San Silvestre 2021"
   ]
  },
  {
   "cell_type": "code",
   "execution_count": 1,
   "id": "2f6ac6bc",
   "metadata": {
    "execution": {
     "iopub.execute_input": "2022-01-03T07:38:17.051741Z",
     "iopub.status.busy": "2022-01-03T07:38:17.051287Z",
     "iopub.status.idle": "2022-01-03T07:38:17.811634Z",
     "shell.execute_reply": "2022-01-03T07:38:17.811299Z"
    }
   },
   "outputs": [],
   "source": [
    "import pandas as pd\n",
    "from scipy import stats\n",
    "import numpy as np\n",
    "import matplotlib.pyplot as plt\n",
    "from utils import load_data, plot_hist, get_mine, plot_pace\n",
    "import matplotlib as mpl"
   ]
  },
  {
   "cell_type": "code",
   "execution_count": 2,
   "id": "61966ed7",
   "metadata": {
    "execution": {
     "iopub.execute_input": "2022-01-03T07:38:17.814379Z",
     "iopub.status.busy": "2022-01-03T07:38:17.813933Z",
     "iopub.status.idle": "2022-01-03T07:38:17.823411Z",
     "shell.execute_reply": "2022-01-03T07:38:17.823632Z"
    }
   },
   "outputs": [
    {
     "data": {
      "text/plain": [
       "'TkAgg'"
      ]
     },
     "execution_count": 2,
     "metadata": {},
     "output_type": "execute_result"
    }
   ],
   "source": [
    "mpl.use('TkAgg')\n",
    "mpl.get_backend()"
   ]
  },
  {
   "cell_type": "code",
   "execution_count": 3,
   "id": "fe754e1c",
   "metadata": {
    "execution": {
     "iopub.execute_input": "2022-01-03T07:38:17.826773Z",
     "iopub.status.busy": "2022-01-03T07:38:17.826431Z",
     "iopub.status.idle": "2022-01-03T07:38:17.828452Z",
     "shell.execute_reply": "2022-01-03T07:38:17.828187Z"
    },
    "lines_to_next_cell": 2
   },
   "outputs": [
    {
     "data": {
      "text/plain": [
       "'%.2f'"
      ]
     },
     "execution_count": 3,
     "metadata": {},
     "output_type": "execute_result"
    }
   ],
   "source": [
    "pd.options.display.float_format = '{:,.2f}'.format\n",
    "np.set_printoptions(precision=2)\n",
    "%precision %.2f"
   ]
  },
  {
   "cell_type": "code",
   "execution_count": 4,
   "id": "09629c35",
   "metadata": {
    "execution": {
     "iopub.execute_input": "2022-01-03T07:38:17.833800Z",
     "iopub.status.busy": "2022-01-03T07:38:17.830350Z",
     "iopub.status.idle": "2022-01-03T07:38:18.199511Z",
     "shell.execute_reply": "2022-01-03T07:38:18.199286Z"
    },
    "lines_to_next_cell": 0
   },
   "outputs": [
    {
     "data": {
      "text/plain": [
       "(16391, 19)"
      ]
     },
     "execution_count": 4,
     "metadata": {},
     "output_type": "execute_result"
    }
   ],
   "source": [
    "\n",
    "data = load_data()\n",
    "data.head()\n",
    "\n",
    "#\n",
    "data.shape"
   ]
  },
  {
   "cell_type": "markdown",
   "id": "0c9a42eb",
   "metadata": {},
   "source": [
    "\n"
   ]
  },
  {
   "cell_type": "code",
   "execution_count": 5,
   "id": "a9e4589c",
   "metadata": {
    "execution": {
     "iopub.execute_input": "2022-01-03T07:38:18.201788Z",
     "iopub.status.busy": "2022-01-03T07:38:18.201377Z",
     "iopub.status.idle": "2022-01-03T07:38:18.212721Z",
     "shell.execute_reply": "2022-01-03T07:38:18.212449Z"
    }
   },
   "outputs": [
    {
     "data": {
      "text/html": [
       "<div>\n",
       "<style scoped>\n",
       "    .dataframe tbody tr th:only-of-type {\n",
       "        vertical-align: middle;\n",
       "    }\n",
       "\n",
       "    .dataframe tbody tr th {\n",
       "        vertical-align: top;\n",
       "    }\n",
       "\n",
       "    .dataframe thead th {\n",
       "        text-align: right;\n",
       "    }\n",
       "</style>\n",
       "<table border=\"1\" class=\"dataframe\">\n",
       "  <thead>\n",
       "    <tr style=\"text-align: right;\">\n",
       "      <th></th>\n",
       "      <th>Dorsal</th>\n",
       "      <th>Nombre</th>\n",
       "      <th>Categ.</th>\n",
       "      <th>Puesto</th>\n",
       "      <th>P.Cat.</th>\n",
       "      <th>Tiempo</th>\n",
       "      <th>Ritmo Km.</th>\n",
       "      <th>Km. 2,5</th>\n",
       "      <th>Km. 5</th>\n",
       "      <th>Km. 7,5</th>\n",
       "      <th>Tiempo Km. 2,5 (Minutos)</th>\n",
       "      <th>Tiempo Km. 5 (Minutos)</th>\n",
       "      <th>Tiempo Km. 7,5 (Minutos)</th>\n",
       "      <th>Tiempo Km. 10 (Minutos)</th>\n",
       "      <th>Ritmo Km. (Minutos)</th>\n",
       "      <th>Ritmo Min/Km. 2,5</th>\n",
       "      <th>Ritmo Min/Km. 5</th>\n",
       "      <th>Ritmo Min/Km. 7,5</th>\n",
       "      <th>Ritmo Min/Km. 10</th>\n",
       "    </tr>\n",
       "  </thead>\n",
       "  <tbody>\n",
       "    <tr>\n",
       "      <th>5745</th>\n",
       "      <td>31471</td>\n",
       "      <td>Maximiliano Greco</td>\n",
       "      <td>Sénior M</td>\n",
       "      <td>5746</td>\n",
       "      <td>1449</td>\n",
       "      <td>0:52:56</td>\n",
       "      <td>5'17\"/km</td>\n",
       "      <td>0:12:34</td>\n",
       "      <td>0:24:45</td>\n",
       "      <td>0:37:06</td>\n",
       "      <td>12.57</td>\n",
       "      <td>24.75</td>\n",
       "      <td>37.10</td>\n",
       "      <td>52.93</td>\n",
       "      <td>5.28</td>\n",
       "      <td>5.03</td>\n",
       "      <td>4.95</td>\n",
       "      <td>4.95</td>\n",
       "      <td>5.29</td>\n",
       "    </tr>\n",
       "  </tbody>\n",
       "</table>\n",
       "</div>"
      ],
      "text/plain": [
       "      Dorsal             Nombre    Categ.  Puesto  P.Cat.   Tiempo Ritmo Km.  \\\n",
       "5745   31471  Maximiliano Greco  Sénior M    5746    1449  0:52:56  5'17\"/km   \n",
       "\n",
       "      Km. 2,5    Km. 5  Km. 7,5  Tiempo Km. 2,5 (Minutos)  \\\n",
       "5745  0:12:34  0:24:45  0:37:06                     12.57   \n",
       "\n",
       "      Tiempo Km. 5 (Minutos)  Tiempo Km. 7,5 (Minutos)  \\\n",
       "5745                   24.75                     37.10   \n",
       "\n",
       "      Tiempo Km. 10 (Minutos)  Ritmo Km. (Minutos)  Ritmo Min/Km. 2,5  \\\n",
       "5745                    52.93                 5.28               5.03   \n",
       "\n",
       "      Ritmo Min/Km. 5  Ritmo Min/Km. 7,5  Ritmo Min/Km. 10  \n",
       "5745             4.95               4.95              5.29  "
      ]
     },
     "execution_count": 5,
     "metadata": {},
     "output_type": "execute_result"
    }
   ],
   "source": [
    "mine = get_mine(data)\n",
    "mine"
   ]
  },
  {
   "cell_type": "markdown",
   "id": "1a737c66",
   "metadata": {},
   "source": [
    "# Estadísticas"
   ]
  },
  {
   "cell_type": "code",
   "execution_count": 6,
   "id": "e957414d",
   "metadata": {
    "execution": {
     "iopub.execute_input": "2022-01-03T07:38:18.215147Z",
     "iopub.status.busy": "2022-01-03T07:38:18.214839Z",
     "iopub.status.idle": "2022-01-03T07:38:18.216483Z",
     "shell.execute_reply": "2022-01-03T07:38:18.216211Z"
    }
   },
   "outputs": [],
   "source": [
    "tiempo_all = data[\"Tiempo Km. 10 (Minutos)\"]\n",
    "tiempo_mine = mine[\"Tiempo Km. 10 (Minutos)\"]"
   ]
  },
  {
   "cell_type": "markdown",
   "id": "1c3175d8",
   "metadata": {},
   "source": [
    "Cuánto tiempo tardé en completar la carrera?"
   ]
  },
  {
   "cell_type": "code",
   "execution_count": 7,
   "id": "98dc5465",
   "metadata": {
    "execution": {
     "iopub.execute_input": "2022-01-03T07:38:18.219073Z",
     "iopub.status.busy": "2022-01-03T07:38:18.218732Z",
     "iopub.status.idle": "2022-01-03T07:38:18.220251Z",
     "shell.execute_reply": "2022-01-03T07:38:18.220470Z"
    }
   },
   "outputs": [
    {
     "data": {
      "text/plain": [
       "'52.93 Minutos'"
      ]
     },
     "execution_count": 7,
     "metadata": {},
     "output_type": "execute_result"
    }
   ],
   "source": [
    "f\"{tiempo_mine.item():.2f} Minutos\""
   ]
  },
  {
   "cell_type": "markdown",
   "id": "ec0bfdb1",
   "metadata": {},
   "source": [
    "De media, cuánto tardaron los corredores en completar la carrera ?"
   ]
  },
  {
   "cell_type": "code",
   "execution_count": 8,
   "id": "bc33cafc",
   "metadata": {
    "execution": {
     "iopub.execute_input": "2022-01-03T07:38:18.222872Z",
     "iopub.status.busy": "2022-01-03T07:38:18.222447Z",
     "iopub.status.idle": "2022-01-03T07:38:18.224498Z",
     "shell.execute_reply": "2022-01-03T07:38:18.224742Z"
    }
   },
   "outputs": [
    {
     "data": {
      "text/plain": [
       "'58.15 Minutos'"
      ]
     },
     "execution_count": 8,
     "metadata": {},
     "output_type": "execute_result"
    }
   ],
   "source": [
    "f\"{tiempo_all.mean():.2f} Minutos\""
   ]
  },
  {
   "cell_type": "markdown",
   "id": "2aa1da3f",
   "metadata": {},
   "source": [
    "En qué percetil está mi tiempo ?"
   ]
  },
  {
   "cell_type": "code",
   "execution_count": 9,
   "id": "5b22445b",
   "metadata": {
    "execution": {
     "iopub.execute_input": "2022-01-03T07:38:18.226867Z",
     "iopub.status.busy": "2022-01-03T07:38:18.226432Z",
     "iopub.status.idle": "2022-01-03T07:38:18.228473Z",
     "shell.execute_reply": "2022-01-03T07:38:18.228717Z"
    }
   },
   "outputs": [
    {
     "data": {
      "text/plain": [
       "'35.03%'"
      ]
     },
     "execution_count": 9,
     "metadata": {},
     "output_type": "execute_result"
    }
   ],
   "source": [
    "f\"{stats.percentileofscore(tiempo_all, tiempo_mine.item()):.2f}%\""
   ]
  },
  {
   "cell_type": "markdown",
   "id": "02a03230",
   "metadata": {},
   "source": [
    "Cuánto tardó el corredor mediano ?"
   ]
  },
  {
   "cell_type": "code",
   "execution_count": 10,
   "id": "d3d878f6",
   "metadata": {
    "execution": {
     "iopub.execute_input": "2022-01-03T07:38:18.230860Z",
     "iopub.status.busy": "2022-01-03T07:38:18.230396Z",
     "iopub.status.idle": "2022-01-03T07:38:18.232710Z",
     "shell.execute_reply": "2022-01-03T07:38:18.232954Z"
    }
   },
   "outputs": [
    {
     "data": {
      "text/plain": [
       "'56.85 Minutos'"
      ]
     },
     "execution_count": 10,
     "metadata": {},
     "output_type": "execute_result"
    }
   ],
   "source": [
    "f\"{tiempo_all.median():.2f} Minutos\""
   ]
  },
  {
   "cell_type": "markdown",
   "id": "9b3fe289",
   "metadata": {},
   "source": [
    "Cuánto tardó el corredor que tardó menos que el 80% ?"
   ]
  },
  {
   "cell_type": "code",
   "execution_count": 11,
   "id": "f98c5c99",
   "metadata": {
    "execution": {
     "iopub.execute_input": "2022-01-03T07:38:18.235282Z",
     "iopub.status.busy": "2022-01-03T07:38:18.234818Z",
     "iopub.status.idle": "2022-01-03T07:38:18.237607Z",
     "shell.execute_reply": "2022-01-03T07:38:18.237345Z"
    },
    "lines_to_next_cell": 2
   },
   "outputs": [
    {
     "data": {
      "text/plain": [
       "'48.75 Minutos'"
      ]
     },
     "execution_count": 11,
     "metadata": {},
     "output_type": "execute_result"
    }
   ],
   "source": [
    "f\"{tiempo_all.quantile(0.2):.2f} Minutos\""
   ]
  },
  {
   "cell_type": "markdown",
   "id": "0ca82b68",
   "metadata": {},
   "source": [
    "## Ritmo"
   ]
  },
  {
   "cell_type": "code",
   "execution_count": 12,
   "id": "ed71d0df",
   "metadata": {
    "execution": {
     "iopub.execute_input": "2022-01-03T07:38:18.240950Z",
     "iopub.status.busy": "2022-01-03T07:38:18.240478Z",
     "iopub.status.idle": "2022-01-03T07:38:18.244707Z",
     "shell.execute_reply": "2022-01-03T07:38:18.244953Z"
    },
    "lines_to_next_cell": 2
   },
   "outputs": [
    {
     "data": {
      "text/plain": [
       "Ritmo Min/Km. 2,5   1.67\n",
       "Ritmo Min/Km. 5     1.27\n",
       "Ritmo Min/Km. 7,5   1.17\n",
       "Ritmo Min/Km. 10    1.17\n",
       "dtype: float64"
      ]
     },
     "execution_count": 12,
     "metadata": {},
     "output_type": "execute_result"
    }
   ],
   "source": [
    "ritmos = [\"Ritmo Min/Km. 2,5\", \"Ritmo Min/Km. 5\", \"Ritmo Min/Km. 7,5\", \"Ritmo Min/Km. 10\"]\n",
    "mine[ritmos]\n",
    "data[ritmos].mean()\n",
    "data[ritmos].std()"
   ]
  },
  {
   "cell_type": "code",
   "execution_count": 13,
   "id": "e0dbd503",
   "metadata": {
    "execution": {
     "iopub.execute_input": "2022-01-03T07:38:18.250453Z",
     "iopub.status.busy": "2022-01-03T07:38:18.247917Z",
     "iopub.status.idle": "2022-01-03T07:38:18.263659Z",
     "shell.execute_reply": "2022-01-03T07:38:18.263420Z"
    }
   },
   "outputs": [
    {
     "data": {
      "text/html": [
       "<div>\n",
       "<style scoped>\n",
       "    .dataframe tbody tr th:only-of-type {\n",
       "        vertical-align: middle;\n",
       "    }\n",
       "\n",
       "    .dataframe tbody tr th {\n",
       "        vertical-align: top;\n",
       "    }\n",
       "\n",
       "    .dataframe thead th {\n",
       "        text-align: right;\n",
       "    }\n",
       "</style>\n",
       "<table border=\"1\" class=\"dataframe\">\n",
       "  <thead>\n",
       "    <tr style=\"text-align: right;\">\n",
       "      <th></th>\n",
       "      <th>Ritmo Min/Km. 2,5</th>\n",
       "      <th>Ritmo Min/Km. 5</th>\n",
       "      <th>Ritmo Min/Km. 7,5</th>\n",
       "      <th>Ritmo Min/Km. 10</th>\n",
       "    </tr>\n",
       "    <tr>\n",
       "      <th>Categ.</th>\n",
       "      <th></th>\n",
       "      <th></th>\n",
       "      <th></th>\n",
       "      <th></th>\n",
       "    </tr>\n",
       "  </thead>\n",
       "  <tbody>\n",
       "    <tr>\n",
       "      <th>F-35</th>\n",
       "      <td>1.12</td>\n",
       "      <td>1.18</td>\n",
       "      <td>1.07</td>\n",
       "      <td>1.12</td>\n",
       "    </tr>\n",
       "    <tr>\n",
       "      <th>F-45</th>\n",
       "      <td>1.03</td>\n",
       "      <td>1.03</td>\n",
       "      <td>1.17</td>\n",
       "      <td>1.12</td>\n",
       "    </tr>\n",
       "    <tr>\n",
       "      <th>F-55</th>\n",
       "      <td>1.20</td>\n",
       "      <td>1.29</td>\n",
       "      <td>1.33</td>\n",
       "      <td>1.47</td>\n",
       "    </tr>\n",
       "    <tr>\n",
       "      <th>F-65</th>\n",
       "      <td>1.05</td>\n",
       "      <td>1.53</td>\n",
       "      <td>1.63</td>\n",
       "      <td>1.58</td>\n",
       "    </tr>\n",
       "    <tr>\n",
       "      <th>Júnior F</th>\n",
       "      <td>0.98</td>\n",
       "      <td>1.03</td>\n",
       "      <td>1.05</td>\n",
       "      <td>1.11</td>\n",
       "    </tr>\n",
       "    <tr>\n",
       "      <th>Júnior M</th>\n",
       "      <td>3.54</td>\n",
       "      <td>2.26</td>\n",
       "      <td>1.28</td>\n",
       "      <td>1.17</td>\n",
       "    </tr>\n",
       "    <tr>\n",
       "      <th>M-35</th>\n",
       "      <td>1.04</td>\n",
       "      <td>1.00</td>\n",
       "      <td>1.02</td>\n",
       "      <td>1.06</td>\n",
       "    </tr>\n",
       "    <tr>\n",
       "      <th>M-45</th>\n",
       "      <td>1.78</td>\n",
       "      <td>1.07</td>\n",
       "      <td>1.10</td>\n",
       "      <td>1.10</td>\n",
       "    </tr>\n",
       "    <tr>\n",
       "      <th>M-55</th>\n",
       "      <td>1.00</td>\n",
       "      <td>1.06</td>\n",
       "      <td>1.03</td>\n",
       "      <td>1.08</td>\n",
       "    </tr>\n",
       "    <tr>\n",
       "      <th>M-65</th>\n",
       "      <td>1.02</td>\n",
       "      <td>1.29</td>\n",
       "      <td>1.26</td>\n",
       "      <td>1.31</td>\n",
       "    </tr>\n",
       "    <tr>\n",
       "      <th>Promesa F</th>\n",
       "      <td>0.89</td>\n",
       "      <td>0.86</td>\n",
       "      <td>0.86</td>\n",
       "      <td>0.91</td>\n",
       "    </tr>\n",
       "    <tr>\n",
       "      <th>Promesa M</th>\n",
       "      <td>0.98</td>\n",
       "      <td>0.92</td>\n",
       "      <td>0.89</td>\n",
       "      <td>0.92</td>\n",
       "    </tr>\n",
       "    <tr>\n",
       "      <th>Sénior F</th>\n",
       "      <td>1.01</td>\n",
       "      <td>1.10</td>\n",
       "      <td>1.05</td>\n",
       "      <td>1.08</td>\n",
       "    </tr>\n",
       "    <tr>\n",
       "      <th>Sénior M</th>\n",
       "      <td>2.36</td>\n",
       "      <td>1.49</td>\n",
       "      <td>1.20</td>\n",
       "      <td>1.11</td>\n",
       "    </tr>\n",
       "  </tbody>\n",
       "</table>\n",
       "</div>"
      ],
      "text/plain": [
       "           Ritmo Min/Km. 2,5  Ritmo Min/Km. 5  Ritmo Min/Km. 7,5  \\\n",
       "Categ.                                                             \n",
       "F-35                    1.12             1.18               1.07   \n",
       "F-45                    1.03             1.03               1.17   \n",
       "F-55                    1.20             1.29               1.33   \n",
       "F-65                    1.05             1.53               1.63   \n",
       "Júnior F                0.98             1.03               1.05   \n",
       "Júnior M                3.54             2.26               1.28   \n",
       "M-35                    1.04             1.00               1.02   \n",
       "M-45                    1.78             1.07               1.10   \n",
       "M-55                    1.00             1.06               1.03   \n",
       "M-65                    1.02             1.29               1.26   \n",
       "Promesa F               0.89             0.86               0.86   \n",
       "Promesa M               0.98             0.92               0.89   \n",
       "Sénior F                1.01             1.10               1.05   \n",
       "Sénior M                2.36             1.49               1.20   \n",
       "\n",
       "           Ritmo Min/Km. 10  \n",
       "Categ.                       \n",
       "F-35                   1.12  \n",
       "F-45                   1.12  \n",
       "F-55                   1.47  \n",
       "F-65                   1.58  \n",
       "Júnior F               1.11  \n",
       "Júnior M               1.17  \n",
       "M-35                   1.06  \n",
       "M-45                   1.10  \n",
       "M-55                   1.08  \n",
       "M-65                   1.31  \n",
       "Promesa F              0.91  \n",
       "Promesa M              0.92  \n",
       "Sénior F               1.08  \n",
       "Sénior M               1.11  "
      ]
     },
     "execution_count": 13,
     "metadata": {},
     "output_type": "execute_result"
    }
   ],
   "source": [
    "# ### Categorías\n",
    "tiempos = [\"Km. 2,5 (Minutos)\", \"Km. 5 (Minutos)\", \"Km. 7,5 (Minutos)\", \"Tiempo (Minutos)\"]\n",
    "mine[ritmos].iloc[0]\n",
    "categ_mine = mine[\"Categ.\"].item()\n",
    "data.query(\" `Categ.` == @categ_mine \")\n",
    "data.groupby(\"Categ.\").mean()[ritmos].sort_values(ritmos[-1])\n",
    "data.groupby(\"Categ.\").std()[ritmos]"
   ]
  },
  {
   "cell_type": "markdown",
   "id": "788458f7",
   "metadata": {},
   "source": [
    "Andando"
   ]
  },
  {
   "cell_type": "code",
   "execution_count": 14,
   "id": "9156913b",
   "metadata": {
    "execution": {
     "iopub.execute_input": "2022-01-03T07:38:18.266809Z",
     "iopub.status.busy": "2022-01-03T07:38:18.266503Z",
     "iopub.status.idle": "2022-01-03T07:38:18.268217Z",
     "shell.execute_reply": "2022-01-03T07:38:18.267989Z"
    }
   },
   "outputs": [
    {
     "data": {
      "text/plain": [
       "27"
      ]
     },
     "execution_count": 14,
     "metadata": {},
     "output_type": "execute_result"
    }
   ],
   "source": [
    "len(data[data[\"Ritmo Min/Km. 10\"] > 13])"
   ]
  },
  {
   "cell_type": "code",
   "execution_count": null,
   "id": "b04c55ff",
   "metadata": {},
   "outputs": [],
   "source": []
  },
  {
   "cell_type": "markdown",
   "id": "61260ae9",
   "metadata": {},
   "source": [
    "# Plot"
   ]
  },
  {
   "cell_type": "markdown",
   "id": "07b4fd85",
   "metadata": {},
   "source": [
    "plt.ion()\n",
    "plot_hist(\n",
    "    \"Tiempo (Minutos)\",\n",
    "    data,\n",
    "    title=\"Distribución del Tiempo en minutos\",\n",
    "    xlabel=\"Minutos\",\n",
    "    ylabel=\"%\",\n",
    ")\n",
    "plot_hist(\n",
    "    \"Ritmo Km. (Minutos)\",\n",
    "    data,\n",
    "    title=\"Distribución del Ritmo \",\n",
    "    xlabel=\"Min/Km\",\n",
    ")\n",
    "plot_hist(\"Km. 2,5 (Minutos)\", data, title=\"\")\n",
    "plot_hist(\"Km. 5 (Minutos)\", data, title=\"\")\n",
    "plot_hist(\"Km. 7,5 (Minutos)\", data, title=\"\")"
   ]
  },
  {
   "cell_type": "markdown",
   "id": "c8122b26",
   "metadata": {},
   "source": []
  },
  {
   "cell_type": "markdown",
   "id": "05fa90cb",
   "metadata": {},
   "source": [
    "Cual fue la evolución de los corredores por cada etapa?"
   ]
  },
  {
   "cell_type": "markdown",
   "id": "19cf8b89",
   "metadata": {
    "lines_to_next_cell": 2
   },
   "source": [
    "delta1 = data[\"Km. 5 (Minutos)\"] - data[\"Km. 2,5 (Minutos)\"]\n",
    "delta2 = data[\"Km. 7,5 (Minutos)\"] - data[\"Km. 5 (Minutos)\"]\n",
    "delta3 = data[\"Tiempo (Minutos)\"] - data[\"Km. 7,5 (Minutos)\"]\n",
    "\n",
    "delta1.div(2.5).hist(bins=20, alpha=0.5)\n",
    "delta2.div(2.5).hist(bins=20, alpha=0.5)\n",
    "delta3.div(2.5).hist(bins=20, alpha=0.5)\n",
    "\n",
    "plt.show()\n",
    "\n",
    "\n",
    "plot_pace(data)"
   ]
  }
 ],
 "metadata": {
  "jupytext": {
   "encoding": "# -*- coding: utf-8 -*-",
   "formats": "ipynb,py,md"
  },
  "kernelspec": {
   "display_name": "Python 3 (ipykernel)",
   "language": "python",
   "name": "python3"
  },
  "language_info": {
   "codemirror_mode": {
    "name": "ipython",
    "version": 3
   },
   "file_extension": ".py",
   "mimetype": "text/x-python",
   "name": "python",
   "nbconvert_exporter": "python",
   "pygments_lexer": "ipython3",
   "version": "3.8.12"
  }
 },
 "nbformat": 4,
 "nbformat_minor": 5
}
