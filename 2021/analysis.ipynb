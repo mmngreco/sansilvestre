{
 "cells": [
  {
   "cell_type": "markdown",
   "id": "ec1e39c5",
   "metadata": {},
   "source": [
    "# San Silvestre 2021"
   ]
  },
  {
   "cell_type": "code",
   "execution_count": 2,
   "id": "8dabaa1d",
   "metadata": {},
   "outputs": [],
   "source": [
    "import pandas as pd\n",
    "from scipy import stats\n",
    "import numpy as np\n",
    "import matplotlib.pyplot as plt\n",
    "from utils import load_data, plot_hist"
   ]
  },
  {
   "cell_type": "code",
   "execution_count": 3,
   "id": "659b60d7",
   "metadata": {},
   "outputs": [
    {
     "data": {
      "text/plain": [
       "'%.2f'"
      ]
     },
     "execution_count": 3,
     "metadata": {},
     "output_type": "execute_result"
    }
   ],
   "source": [
    "pd.options.display.float_format = '{:,.2f}'.format\n",
    "np.set_printoptions(precision=2)\n",
    "%precision %.2f\n"
   ]
  },
  {
   "cell_type": "code",
   "execution_count": 4,
   "id": "1ffc691c",
   "metadata": {
    "lines_to_next_cell": 0
   },
   "outputs": [
    {
     "data": {
      "text/html": [
       "<div>\n",
       "<style scoped>\n",
       "    .dataframe tbody tr th:only-of-type {\n",
       "        vertical-align: middle;\n",
       "    }\n",
       "\n",
       "    .dataframe tbody tr th {\n",
       "        vertical-align: top;\n",
       "    }\n",
       "\n",
       "    .dataframe thead th {\n",
       "        text-align: right;\n",
       "    }\n",
       "</style>\n",
       "<table border=\"1\" class=\"dataframe\">\n",
       "  <thead>\n",
       "    <tr style=\"text-align: right;\">\n",
       "      <th></th>\n",
       "      <th>Dorsal</th>\n",
       "      <th>Nombre</th>\n",
       "      <th>Categ.</th>\n",
       "      <th>Puesto</th>\n",
       "      <th>P.Cat.</th>\n",
       "      <th>Tiempo</th>\n",
       "      <th>Ritmo Km.</th>\n",
       "      <th>Km. 2,5</th>\n",
       "      <th>Km. 5</th>\n",
       "      <th>Km. 7,5</th>\n",
       "      <th>TiempoMinutos</th>\n",
       "      <th>Km. 2,5 Minutos</th>\n",
       "      <th>Km. 5 Minutos</th>\n",
       "      <th>Km. 7,5 Minutos</th>\n",
       "      <th>Ritmo Km. Minutos</th>\n",
       "    </tr>\n",
       "  </thead>\n",
       "  <tbody>\n",
       "    <tr>\n",
       "      <th>0</th>\n",
       "      <td>36417</td>\n",
       "      <td>David Bascuñana Corrales</td>\n",
       "      <td>M-35</td>\n",
       "      <td>1</td>\n",
       "      <td>1</td>\n",
       "      <td>0:29:13</td>\n",
       "      <td>2'55\"/km</td>\n",
       "      <td>0:07:09</td>\n",
       "      <td>0:14:17</td>\n",
       "      <td>0:21:03</td>\n",
       "      <td>29.22</td>\n",
       "      <td>7.15</td>\n",
       "      <td>14.28</td>\n",
       "      <td>21.05</td>\n",
       "      <td>2.92</td>\n",
       "    </tr>\n",
       "    <tr>\n",
       "      <th>1</th>\n",
       "      <td>27702</td>\n",
       "      <td>Jaouad El Bissis El Bissis</td>\n",
       "      <td>M-35</td>\n",
       "      <td>2</td>\n",
       "      <td>2</td>\n",
       "      <td>0:29:18</td>\n",
       "      <td>2'55\"/km</td>\n",
       "      <td>0:07:09</td>\n",
       "      <td>0:14:17</td>\n",
       "      <td>0:21:09</td>\n",
       "      <td>29.30</td>\n",
       "      <td>7.15</td>\n",
       "      <td>14.28</td>\n",
       "      <td>21.15</td>\n",
       "      <td>2.92</td>\n",
       "    </tr>\n",
       "    <tr>\n",
       "      <th>2</th>\n",
       "      <td>29141</td>\n",
       "      <td>Luis Agustín Escriche</td>\n",
       "      <td>Sénior M</td>\n",
       "      <td>3</td>\n",
       "      <td>1</td>\n",
       "      <td>0:30:30</td>\n",
       "      <td>3'03\"/km</td>\n",
       "      <td>0:07:23</td>\n",
       "      <td>0:14:37</td>\n",
       "      <td>0:21:46</td>\n",
       "      <td>30.50</td>\n",
       "      <td>7.38</td>\n",
       "      <td>14.62</td>\n",
       "      <td>21.77</td>\n",
       "      <td>3.05</td>\n",
       "    </tr>\n",
       "    <tr>\n",
       "      <th>3</th>\n",
       "      <td>22312</td>\n",
       "      <td>Javier Martinez Fernández</td>\n",
       "      <td>M-35</td>\n",
       "      <td>4</td>\n",
       "      <td>3</td>\n",
       "      <td>0:30:48</td>\n",
       "      <td>3'04\"/km</td>\n",
       "      <td>0:07:24</td>\n",
       "      <td>0:14:54</td>\n",
       "      <td>0:22:07</td>\n",
       "      <td>30.80</td>\n",
       "      <td>7.40</td>\n",
       "      <td>14.90</td>\n",
       "      <td>22.12</td>\n",
       "      <td>3.07</td>\n",
       "    </tr>\n",
       "    <tr>\n",
       "      <th>4</th>\n",
       "      <td>10217</td>\n",
       "      <td>Sergio Salinero Miguel</td>\n",
       "      <td>M-35</td>\n",
       "      <td>5</td>\n",
       "      <td>4</td>\n",
       "      <td>0:30:59</td>\n",
       "      <td>3'05\"/km</td>\n",
       "      <td>0:07:25</td>\n",
       "      <td>0:14:54</td>\n",
       "      <td>0:22:10</td>\n",
       "      <td>30.98</td>\n",
       "      <td>7.42</td>\n",
       "      <td>14.90</td>\n",
       "      <td>22.17</td>\n",
       "      <td>3.08</td>\n",
       "    </tr>\n",
       "  </tbody>\n",
       "</table>\n",
       "</div>"
      ],
      "text/plain": [
       "   Dorsal                      Nombre    Categ.  Puesto  P.Cat.   Tiempo  \\\n",
       "0   36417    David Bascuñana Corrales      M-35       1       1  0:29:13   \n",
       "1   27702  Jaouad El Bissis El Bissis      M-35       2       2  0:29:18   \n",
       "2   29141       Luis Agustín Escriche  Sénior M       3       1  0:30:30   \n",
       "3   22312   Javier Martinez Fernández      M-35       4       3  0:30:48   \n",
       "4   10217      Sergio Salinero Miguel      M-35       5       4  0:30:59   \n",
       "\n",
       "  Ritmo Km.  Km. 2,5    Km. 5  Km. 7,5  TiempoMinutos  Km. 2,5 Minutos  \\\n",
       "0  2'55\"/km  0:07:09  0:14:17  0:21:03          29.22             7.15   \n",
       "1  2'55\"/km  0:07:09  0:14:17  0:21:09          29.30             7.15   \n",
       "2  3'03\"/km  0:07:23  0:14:37  0:21:46          30.50             7.38   \n",
       "3  3'04\"/km  0:07:24  0:14:54  0:22:07          30.80             7.40   \n",
       "4  3'05\"/km  0:07:25  0:14:54  0:22:10          30.98             7.42   \n",
       "\n",
       "   Km. 5 Minutos  Km. 7,5 Minutos  Ritmo Km. Minutos  \n",
       "0          14.28            21.05               2.92  \n",
       "1          14.28            21.15               2.92  \n",
       "2          14.62            21.77               3.05  \n",
       "3          14.90            22.12               3.07  \n",
       "4          14.90            22.17               3.08  "
      ]
     },
     "execution_count": 4,
     "metadata": {},
     "output_type": "execute_result"
    }
   ],
   "source": [
    "\n",
    "data = load_data()\n",
    "data.head()"
   ]
  },
  {
   "cell_type": "markdown",
   "id": "446bc5a9",
   "metadata": {},
   "source": [
    "\n"
   ]
  },
  {
   "cell_type": "code",
   "execution_count": 5,
   "id": "afc30330",
   "metadata": {},
   "outputs": [
    {
     "data": {
      "text/html": [
       "<div>\n",
       "<style scoped>\n",
       "    .dataframe tbody tr th:only-of-type {\n",
       "        vertical-align: middle;\n",
       "    }\n",
       "\n",
       "    .dataframe tbody tr th {\n",
       "        vertical-align: top;\n",
       "    }\n",
       "\n",
       "    .dataframe thead th {\n",
       "        text-align: right;\n",
       "    }\n",
       "</style>\n",
       "<table border=\"1\" class=\"dataframe\">\n",
       "  <thead>\n",
       "    <tr style=\"text-align: right;\">\n",
       "      <th></th>\n",
       "      <th>Dorsal</th>\n",
       "      <th>Nombre</th>\n",
       "      <th>Categ.</th>\n",
       "      <th>Puesto</th>\n",
       "      <th>P.Cat.</th>\n",
       "      <th>Tiempo</th>\n",
       "      <th>Ritmo Km.</th>\n",
       "      <th>Km. 2,5</th>\n",
       "      <th>Km. 5</th>\n",
       "      <th>Km. 7,5</th>\n",
       "      <th>TiempoMinutos</th>\n",
       "      <th>Km. 2,5 Minutos</th>\n",
       "      <th>Km. 5 Minutos</th>\n",
       "      <th>Km. 7,5 Minutos</th>\n",
       "      <th>Ritmo Km. Minutos</th>\n",
       "    </tr>\n",
       "  </thead>\n",
       "  <tbody>\n",
       "    <tr>\n",
       "      <th>0</th>\n",
       "      <td>31471</td>\n",
       "      <td>Maximiliano Greco</td>\n",
       "      <td>Sénior M</td>\n",
       "      <td>5746</td>\n",
       "      <td>1449</td>\n",
       "      <td>0:52:56</td>\n",
       "      <td>5'17\"/km</td>\n",
       "      <td>0:12:34</td>\n",
       "      <td>0:24:45</td>\n",
       "      <td>0:37:06</td>\n",
       "      <td>52.93</td>\n",
       "      <td>12.57</td>\n",
       "      <td>24.75</td>\n",
       "      <td>37.10</td>\n",
       "      <td>5.28</td>\n",
       "    </tr>\n",
       "  </tbody>\n",
       "</table>\n",
       "</div>"
      ],
      "text/plain": [
       "   Dorsal             Nombre    Categ.  Puesto  P.Cat.   Tiempo Ritmo Km.  \\\n",
       "0   31471  Maximiliano Greco  Sénior M    5746    1449  0:52:56  5'17\"/km   \n",
       "\n",
       "   Km. 2,5    Km. 5  Km. 7,5  TiempoMinutos  Km. 2,5 Minutos  Km. 5 Minutos  \\\n",
       "0  0:12:34  0:24:45  0:37:06          52.93            12.57          24.75   \n",
       "\n",
       "   Km. 7,5 Minutos  Ritmo Km. Minutos  \n",
       "0            37.10               5.28  "
      ]
     },
     "execution_count": 5,
     "metadata": {},
     "output_type": "execute_result"
    }
   ],
   "source": [
    "mine = data.query(\"Nombre=='Maximiliano Greco'\")\n",
    "mine"
   ]
  },
  {
   "cell_type": "markdown",
   "id": "39d0996e",
   "metadata": {},
   "source": [
    "# Estadísticas"
   ]
  },
  {
   "cell_type": "code",
   "execution_count": null,
   "id": "30710060",
   "metadata": {},
   "outputs": [],
   "source": [
    "tiempo_all = data[\"Tiempo Minutos\"]\n",
    "tiempo_mine = mine[\"Tiempo Minutos\"]"
   ]
  },
  {
   "cell_type": "markdown",
   "id": "32221cc4",
   "metadata": {},
   "source": [
    "Cuánto tiempo tardé en completar la carrera? "
   ]
  },
  {
   "cell_type": "code",
   "execution_count": 6,
   "id": "d7fdd7d0",
   "metadata": {},
   "outputs": [
    {
     "data": {
      "text/plain": [
       "52.93"
      ]
     },
     "execution_count": 6,
     "metadata": {},
     "output_type": "execute_result"
    }
   ],
   "source": [
    "tiempo_mine.item()"
   ]
  },
  {
   "cell_type": "markdown",
   "id": "67f9f33a",
   "metadata": {},
   "source": [
    "De media, cuánto tardaron los corredores en completar la carrera ? "
   ]
  },
  {
   "cell_type": "code",
   "execution_count": 7,
   "id": "9184c880",
   "metadata": {},
   "outputs": [
    {
     "data": {
      "text/plain": [
       "58.15"
      ]
     },
     "execution_count": 7,
     "metadata": {},
     "output_type": "execute_result"
    }
   ],
   "source": [
    "float(tiempo_all.mean())"
   ]
  },
  {
   "cell_type": "markdown",
   "id": "315ee04e",
   "metadata": {},
   "source": [
    "En qué percetil está mi tiempo ?"
   ]
  },
  {
   "cell_type": "code",
   "execution_count": 8,
   "id": "16495b49",
   "metadata": {},
   "outputs": [
    {
     "data": {
      "text/plain": [
       "35.03"
      ]
     },
     "execution_count": 8,
     "metadata": {},
     "output_type": "execute_result"
    }
   ],
   "source": [
    "stats.percentileofscore(tiempo_all, tiempo_mine.item())"
   ]
  },
  {
   "cell_type": "markdown",
   "id": "6d788151",
   "metadata": {},
   "source": [
    "Cuánto tardó el corredor mediano ?"
   ]
  },
  {
   "cell_type": "code",
   "execution_count": 9,
   "id": "f26628fe",
   "metadata": {},
   "outputs": [
    {
     "data": {
      "text/plain": [
       "56.85"
      ]
     },
     "execution_count": 9,
     "metadata": {},
     "output_type": "execute_result"
    }
   ],
   "source": [
    "tiempo_all.median()"
   ]
  },
  {
   "cell_type": "markdown",
   "id": "3f71b535",
   "metadata": {},
   "source": [
    "Cuánto tardó el corredor que tardó menos que el 80% ? "
   ]
  },
  {
   "cell_type": "code",
   "execution_count": 10,
   "id": "7b76dac8",
   "metadata": {
    "lines_to_next_cell": 2
   },
   "outputs": [
    {
     "data": {
      "text/plain": [
       "48.75"
      ]
     },
     "execution_count": 10,
     "metadata": {},
     "output_type": "execute_result"
    }
   ],
   "source": [
    "tiempo_all.quantile(0.2)"
   ]
  },
  {
   "cell_type": "markdown",
   "id": "96adfbfe",
   "metadata": {},
   "source": [
    "## Pace "
   ]
  },
  {
   "cell_type": "code",
   "execution_count": 22,
   "id": "b44063b2",
   "metadata": {},
   "outputs": [],
   "source": [
    "ritmos = [\"Km. 2,5 Minutos\", \"Km. 5 Minutos\", \"Km. 7,5 Minutos\", \"Ritmo Km. Minutos\"]"
   ]
  },
  {
   "cell_type": "code",
   "execution_count": 23,
   "id": "455cf9b6",
   "metadata": {},
   "outputs": [
    {
     "data": {
      "text/html": [
       "<div>\n",
       "<style scoped>\n",
       "    .dataframe tbody tr th:only-of-type {\n",
       "        vertical-align: middle;\n",
       "    }\n",
       "\n",
       "    .dataframe tbody tr th {\n",
       "        vertical-align: top;\n",
       "    }\n",
       "\n",
       "    .dataframe thead th {\n",
       "        text-align: right;\n",
       "    }\n",
       "</style>\n",
       "<table border=\"1\" class=\"dataframe\">\n",
       "  <thead>\n",
       "    <tr style=\"text-align: right;\">\n",
       "      <th></th>\n",
       "      <th>Km. 2,5 Minutos</th>\n",
       "      <th>Km. 5 Minutos</th>\n",
       "      <th>Km. 7,5 Minutos</th>\n",
       "      <th>Ritmo Km. Minutos</th>\n",
       "    </tr>\n",
       "  </thead>\n",
       "  <tbody>\n",
       "    <tr>\n",
       "      <th>count</th>\n",
       "      <td>16,221.00</td>\n",
       "      <td>16,290.00</td>\n",
       "      <td>16,282.00</td>\n",
       "      <td>16,391.00</td>\n",
       "    </tr>\n",
       "    <tr>\n",
       "      <th>mean</th>\n",
       "      <td>14.13</td>\n",
       "      <td>28.05</td>\n",
       "      <td>41.72</td>\n",
       "      <td>5.81</td>\n",
       "    </tr>\n",
       "    <tr>\n",
       "      <th>std</th>\n",
       "      <td>4.18</td>\n",
       "      <td>6.35</td>\n",
       "      <td>8.74</td>\n",
       "      <td>1.17</td>\n",
       "    </tr>\n",
       "    <tr>\n",
       "      <th>min</th>\n",
       "      <td>7.15</td>\n",
       "      <td>14.28</td>\n",
       "      <td>21.05</td>\n",
       "      <td>2.92</td>\n",
       "    </tr>\n",
       "    <tr>\n",
       "      <th>25%</th>\n",
       "      <td>12.17</td>\n",
       "      <td>24.23</td>\n",
       "      <td>36.09</td>\n",
       "      <td>5.02</td>\n",
       "    </tr>\n",
       "    <tr>\n",
       "      <th>50%</th>\n",
       "      <td>13.88</td>\n",
       "      <td>27.50</td>\n",
       "      <td>40.87</td>\n",
       "      <td>5.68</td>\n",
       "    </tr>\n",
       "    <tr>\n",
       "      <th>75%</th>\n",
       "      <td>15.72</td>\n",
       "      <td>31.07</td>\n",
       "      <td>46.18</td>\n",
       "      <td>6.45</td>\n",
       "    </tr>\n",
       "    <tr>\n",
       "      <th>max</th>\n",
       "      <td>213.65</td>\n",
       "      <td>223.07</td>\n",
       "      <td>232.10</td>\n",
       "      <td>19.32</td>\n",
       "    </tr>\n",
       "  </tbody>\n",
       "</table>\n",
       "</div>"
      ],
      "text/plain": [
       "       Km. 2,5 Minutos  Km. 5 Minutos  Km. 7,5 Minutos  Ritmo Km. Minutos\n",
       "count        16,221.00      16,290.00        16,282.00          16,391.00\n",
       "mean             14.13          28.05            41.72               5.81\n",
       "std               4.18           6.35             8.74               1.17\n",
       "min               7.15          14.28            21.05               2.92\n",
       "25%              12.17          24.23            36.09               5.02\n",
       "50%              13.88          27.50            40.87               5.68\n",
       "75%              15.72          31.07            46.18               6.45\n",
       "max             213.65         223.07           232.10              19.32"
      ]
     },
     "execution_count": 23,
     "metadata": {},
     "output_type": "execute_result"
    }
   ],
   "source": [
    "data[ritmos].describe()"
   ]
  },
  {
   "cell_type": "code",
   "execution_count": 24,
   "id": "f5f41320",
   "metadata": {},
   "outputs": [
    {
     "data": {
      "text/html": [
       "<div>\n",
       "<style scoped>\n",
       "    .dataframe tbody tr th:only-of-type {\n",
       "        vertical-align: middle;\n",
       "    }\n",
       "\n",
       "    .dataframe tbody tr th {\n",
       "        vertical-align: top;\n",
       "    }\n",
       "\n",
       "    .dataframe thead th {\n",
       "        text-align: right;\n",
       "    }\n",
       "</style>\n",
       "<table border=\"1\" class=\"dataframe\">\n",
       "  <thead>\n",
       "    <tr style=\"text-align: right;\">\n",
       "      <th></th>\n",
       "      <th>Km. 2,5 Minutos</th>\n",
       "      <th>Km. 5 Minutos</th>\n",
       "      <th>Km. 7,5 Minutos</th>\n",
       "      <th>Ritmo Km. Minutos</th>\n",
       "    </tr>\n",
       "  </thead>\n",
       "  <tbody>\n",
       "    <tr>\n",
       "      <th>0</th>\n",
       "      <td>12.57</td>\n",
       "      <td>24.75</td>\n",
       "      <td>37.10</td>\n",
       "      <td>5.28</td>\n",
       "    </tr>\n",
       "  </tbody>\n",
       "</table>\n",
       "</div>"
      ],
      "text/plain": [
       "   Km. 2,5 Minutos  Km. 5 Minutos  Km. 7,5 Minutos  Ritmo Km. Minutos\n",
       "0            12.57          24.75            37.10               5.28"
      ]
     },
     "execution_count": 24,
     "metadata": {},
     "output_type": "execute_result"
    }
   ],
   "source": [
    "mine[ritmos]"
   ]
  },
  {
   "cell_type": "markdown",
   "id": "0f1aeda9",
   "metadata": {},
   "source": [
    "# Plot"
   ]
  },
  {
   "cell_type": "code",
   "execution_count": null,
   "id": "ca6aaa69",
   "metadata": {},
   "outputs": [],
   "source": [
    "plot_hist(\"Tiempo Minutos\", data, mine)"
   ]
  },
  {
   "cell_type": "code",
   "execution_count": null,
   "id": "2ce12985",
   "metadata": {},
   "outputs": [],
   "source": [
    "plot_hist(\"Ritmo Km. Minutos\", data, mine)"
   ]
  },
  {
   "cell_type": "code",
   "execution_count": null,
   "id": "ddf3f56f",
   "metadata": {},
   "outputs": [],
   "source": [
    "plot_hist(\"Km. 2,5 Minutos\", data, mine)"
   ]
  },
  {
   "cell_type": "code",
   "execution_count": null,
   "id": "0470cbc8",
   "metadata": {},
   "outputs": [],
   "source": [
    "plot_hist(\"Km. 5 Minutos\", data, mine)"
   ]
  },
  {
   "cell_type": "code",
   "execution_count": 14,
   "id": "d4f9231d",
   "metadata": {
    "lines_to_next_cell": 0
   },
   "outputs": [
    {
     "data": {
      "image/png": "[encoded data removed]",
      "text/plain": [
       "<Figure size 1440x720 with 1 Axes>"
      ]
     },
     "metadata": {
      "needs_background": "light"
     },
     "output_type": "display_data"
    }
   ],
   "source": [
    "plot_hist(\"Km. 7,5 Minutos\", data, mine)"
   ]
  },
  {
   "cell_type": "markdown",
   "id": "520db22d",
   "metadata": {},
   "source": []
  },
  {
   "cell_type": "markdown",
   "id": "895eb89b",
   "metadata": {},
   "source": [
    "Cual fue la evolución de los corredores por cada etapa? "
   ]
  },
  {
   "cell_type": "code",
   "execution_count": null,
   "id": "428b0d18",
   "metadata": {},
   "outputs": [],
   "source": [
    "delta1 = data[\"Km. 5 Minutos\"] - data[\"Km. 2,5 Minutos\"]\n",
    "delta2 = data[\"Km. 7,5 Minutos\"] - data[\"Km. 5 Minutos\"]\n",
    "delta1.hist()\n",
    "delta2.hist()\n",
    "plt.show()"
   ]
  }
 ],
 "metadata": {
  "kernelspec": {
   "display_name": "Python 3 (ipykernel)",
   "language": "python",
   "name": "python3"
  },
  "language_info": {
   "codemirror_mode": {
    "name": "ipython",
    "version": 3
   },
   "file_extension": ".py",
   "mimetype": "text/x-python",
   "name": "python",
   "nbconvert_exporter": "python",
   "pygments_lexer": "ipython3",
   "version": "3.7.11"
  }
 },
 "nbformat": 4,
 "nbformat_minor": 5
}
