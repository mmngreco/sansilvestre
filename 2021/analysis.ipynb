{
 "cells": [
  {
   "cell_type": "markdown",
   "id": "894e53a4",
   "metadata": {},
   "source": [
    "# San Silvestre 2021"
   ]
  },
  {
   "cell_type": "code",
   "execution_count": 1,
   "id": "96951c3d",
   "metadata": {
    "execution": {
     "iopub.execute_input": "2022-01-04T19:40:08.546689Z",
     "iopub.status.busy": "2022-01-04T19:40:08.546292Z",
     "iopub.status.idle": "2022-01-04T19:40:09.321531Z",
     "shell.execute_reply": "2022-01-04T19:40:09.321223Z"
    }
   },
   "outputs": [
    {
     "data": {
      "text/plain": [
       "'%.2f'"
      ]
     },
     "execution_count": 1,
     "metadata": {},
     "output_type": "execute_result"
    }
   ],
   "source": [
    "import pandas as pd\n",
    "from scipy import stats\n",
    "import numpy as np\n",
    "import matplotlib.pyplot as plt\n",
    "from utils import load_data, plot_hist, get_mine, plot_grid, TIEMPOS, RITMOS, ritmo2minutes\n",
    "import matplotlib as mpl\n",
    "import seaborn as sns\n",
    "import os\n",
    "if not \"JPY_PARENT_PID\" in os.environ:\n",
    "    mpl.use('Qt5Cairo')\n",
    "    plt.ion()\n",
    "pd.options.display.float_format = '{:,.2f}'.format\n",
    "np.set_printoptions(precision=2)\n",
    "%precision %.2f"
   ]
  },
  {
   "cell_type": "code",
   "execution_count": 2,
   "id": "0d7699d1",
   "metadata": {
    "execution": {
     "iopub.execute_input": "2022-01-04T19:40:09.326817Z",
     "iopub.status.busy": "2022-01-04T19:40:09.323586Z",
     "iopub.status.idle": "2022-01-04T19:40:09.700352Z",
     "shell.execute_reply": "2022-01-04T19:40:09.700598Z"
    }
   },
   "outputs": [
    {
     "data": {
      "text/html": [
       "<div>\n",
       "<style scoped>\n",
       "    .dataframe tbody tr th:only-of-type {\n",
       "        vertical-align: middle;\n",
       "    }\n",
       "\n",
       "    .dataframe tbody tr th {\n",
       "        vertical-align: top;\n",
       "    }\n",
       "\n",
       "    .dataframe thead th {\n",
       "        text-align: right;\n",
       "    }\n",
       "</style>\n",
       "<table border=\"1\" class=\"dataframe\">\n",
       "  <thead>\n",
       "    <tr style=\"text-align: right;\">\n",
       "      <th></th>\n",
       "      <th>Dorsal</th>\n",
       "      <th>Nombre</th>\n",
       "      <th>Categ.</th>\n",
       "      <th>Puesto</th>\n",
       "      <th>P.Cat.</th>\n",
       "      <th>Tiempo</th>\n",
       "      <th>Ritmo Km.</th>\n",
       "      <th>Km. 2,5</th>\n",
       "      <th>Km. 5</th>\n",
       "      <th>Km. 7,5</th>\n",
       "      <th>...</th>\n",
       "      <th>Sexo</th>\n",
       "      <th>Tiempo Km. 2,5 (Minutos)</th>\n",
       "      <th>Tiempo Km. 5 (Minutos)</th>\n",
       "      <th>Tiempo Km. 7,5 (Minutos)</th>\n",
       "      <th>Tiempo Km. 10 (Minutos)</th>\n",
       "      <th>Ritmo Km. (Minutos)</th>\n",
       "      <th>Ritmo Min/Km. 2,5</th>\n",
       "      <th>Ritmo Min/Km. 5</th>\n",
       "      <th>Ritmo Min/Km. 7,5</th>\n",
       "      <th>Ritmo Min/Km. 10</th>\n",
       "    </tr>\n",
       "  </thead>\n",
       "  <tbody>\n",
       "    <tr>\n",
       "      <th>0</th>\n",
       "      <td>36417</td>\n",
       "      <td>David Bascuñana Corrales</td>\n",
       "      <td>M-35</td>\n",
       "      <td>1</td>\n",
       "      <td>1</td>\n",
       "      <td>0:29:13</td>\n",
       "      <td>2'55\"/km</td>\n",
       "      <td>0:07:09</td>\n",
       "      <td>0:14:17</td>\n",
       "      <td>0:21:03</td>\n",
       "      <td>...</td>\n",
       "      <td>M</td>\n",
       "      <td>7.15</td>\n",
       "      <td>14.28</td>\n",
       "      <td>21.05</td>\n",
       "      <td>29.22</td>\n",
       "      <td>2.92</td>\n",
       "      <td>2.86</td>\n",
       "      <td>2.86</td>\n",
       "      <td>2.81</td>\n",
       "      <td>2.92</td>\n",
       "    </tr>\n",
       "    <tr>\n",
       "      <th>1</th>\n",
       "      <td>27702</td>\n",
       "      <td>Jaouad El Bissis El Bissis</td>\n",
       "      <td>M-35</td>\n",
       "      <td>2</td>\n",
       "      <td>2</td>\n",
       "      <td>0:29:18</td>\n",
       "      <td>2'55\"/km</td>\n",
       "      <td>0:07:09</td>\n",
       "      <td>0:14:17</td>\n",
       "      <td>0:21:09</td>\n",
       "      <td>...</td>\n",
       "      <td>M</td>\n",
       "      <td>7.15</td>\n",
       "      <td>14.28</td>\n",
       "      <td>21.15</td>\n",
       "      <td>29.30</td>\n",
       "      <td>2.92</td>\n",
       "      <td>2.86</td>\n",
       "      <td>2.86</td>\n",
       "      <td>2.82</td>\n",
       "      <td>2.93</td>\n",
       "    </tr>\n",
       "    <tr>\n",
       "      <th>2</th>\n",
       "      <td>29141</td>\n",
       "      <td>Luis Agustín Escriche</td>\n",
       "      <td>Sénior M</td>\n",
       "      <td>3</td>\n",
       "      <td>1</td>\n",
       "      <td>0:30:30</td>\n",
       "      <td>3'03\"/km</td>\n",
       "      <td>0:07:23</td>\n",
       "      <td>0:14:37</td>\n",
       "      <td>0:21:46</td>\n",
       "      <td>...</td>\n",
       "      <td>M</td>\n",
       "      <td>7.38</td>\n",
       "      <td>14.62</td>\n",
       "      <td>21.77</td>\n",
       "      <td>30.50</td>\n",
       "      <td>3.05</td>\n",
       "      <td>2.95</td>\n",
       "      <td>2.92</td>\n",
       "      <td>2.90</td>\n",
       "      <td>3.05</td>\n",
       "    </tr>\n",
       "    <tr>\n",
       "      <th>3</th>\n",
       "      <td>22312</td>\n",
       "      <td>Javier Martinez Fernández</td>\n",
       "      <td>M-35</td>\n",
       "      <td>4</td>\n",
       "      <td>3</td>\n",
       "      <td>0:30:48</td>\n",
       "      <td>3'04\"/km</td>\n",
       "      <td>0:07:24</td>\n",
       "      <td>0:14:54</td>\n",
       "      <td>0:22:07</td>\n",
       "      <td>...</td>\n",
       "      <td>M</td>\n",
       "      <td>7.40</td>\n",
       "      <td>14.90</td>\n",
       "      <td>22.12</td>\n",
       "      <td>30.80</td>\n",
       "      <td>3.07</td>\n",
       "      <td>2.96</td>\n",
       "      <td>2.98</td>\n",
       "      <td>2.95</td>\n",
       "      <td>3.08</td>\n",
       "    </tr>\n",
       "    <tr>\n",
       "      <th>4</th>\n",
       "      <td>10217</td>\n",
       "      <td>Sergio Salinero Miguel</td>\n",
       "      <td>M-35</td>\n",
       "      <td>5</td>\n",
       "      <td>4</td>\n",
       "      <td>0:30:59</td>\n",
       "      <td>3'05\"/km</td>\n",
       "      <td>0:07:25</td>\n",
       "      <td>0:14:54</td>\n",
       "      <td>0:22:10</td>\n",
       "      <td>...</td>\n",
       "      <td>M</td>\n",
       "      <td>7.42</td>\n",
       "      <td>14.90</td>\n",
       "      <td>22.17</td>\n",
       "      <td>30.98</td>\n",
       "      <td>3.08</td>\n",
       "      <td>2.97</td>\n",
       "      <td>2.98</td>\n",
       "      <td>2.96</td>\n",
       "      <td>3.10</td>\n",
       "    </tr>\n",
       "  </tbody>\n",
       "</table>\n",
       "<p>5 rows × 21 columns</p>\n",
       "</div>"
      ],
      "text/plain": [
       "   Dorsal                      Nombre    Categ.  Puesto  P.Cat.   Tiempo  \\\n",
       "0   36417    David Bascuñana Corrales      M-35       1       1  0:29:13   \n",
       "1   27702  Jaouad El Bissis El Bissis      M-35       2       2  0:29:18   \n",
       "2   29141       Luis Agustín Escriche  Sénior M       3       1  0:30:30   \n",
       "3   22312   Javier Martinez Fernández      M-35       4       3  0:30:48   \n",
       "4   10217      Sergio Salinero Miguel      M-35       5       4  0:30:59   \n",
       "\n",
       "  Ritmo Km.  Km. 2,5    Km. 5  Km. 7,5  ... Sexo Tiempo Km. 2,5 (Minutos)  \\\n",
       "0  2'55\"/km  0:07:09  0:14:17  0:21:03  ...    M                     7.15   \n",
       "1  2'55\"/km  0:07:09  0:14:17  0:21:09  ...    M                     7.15   \n",
       "2  3'03\"/km  0:07:23  0:14:37  0:21:46  ...    M                     7.38   \n",
       "3  3'04\"/km  0:07:24  0:14:54  0:22:07  ...    M                     7.40   \n",
       "4  3'05\"/km  0:07:25  0:14:54  0:22:10  ...    M                     7.42   \n",
       "\n",
       "   Tiempo Km. 5 (Minutos)  Tiempo Km. 7,5 (Minutos)  Tiempo Km. 10 (Minutos)  \\\n",
       "0                   14.28                     21.05                    29.22   \n",
       "1                   14.28                     21.15                    29.30   \n",
       "2                   14.62                     21.77                    30.50   \n",
       "3                   14.90                     22.12                    30.80   \n",
       "4                   14.90                     22.17                    30.98   \n",
       "\n",
       "   Ritmo Km. (Minutos)  Ritmo Min/Km. 2,5  Ritmo Min/Km. 5  Ritmo Min/Km. 7,5  \\\n",
       "0                 2.92               2.86             2.86               2.81   \n",
       "1                 2.92               2.86             2.86               2.82   \n",
       "2                 3.05               2.95             2.92               2.90   \n",
       "3                 3.07               2.96             2.98               2.95   \n",
       "4                 3.08               2.97             2.98               2.96   \n",
       "\n",
       "   Ritmo Min/Km. 10  \n",
       "0              2.92  \n",
       "1              2.93  \n",
       "2              3.05  \n",
       "3              3.08  \n",
       "4              3.10  \n",
       "\n",
       "[5 rows x 21 columns]"
      ]
     },
     "execution_count": 2,
     "metadata": {},
     "output_type": "execute_result"
    }
   ],
   "source": [
    "data = load_data()\n",
    "data.head()"
   ]
  },
  {
   "cell_type": "markdown",
   "id": "2cb2acd0",
   "metadata": {},
   "source": [
    "# Datos inconsistentes"
   ]
  },
  {
   "cell_type": "code",
   "execution_count": 3,
   "id": "731949c1",
   "metadata": {
    "execution": {
     "iopub.execute_input": "2022-01-04T19:40:09.706799Z",
     "iopub.status.busy": "2022-01-04T19:40:09.703763Z",
     "iopub.status.idle": "2022-01-04T19:40:09.709844Z",
     "shell.execute_reply": "2022-01-04T19:40:09.709578Z"
    }
   },
   "outputs": [],
   "source": [
    "wrong_time = (\n",
    "    (data[\"Tiempo Km. 2,5 (Minutos)\"] > data[\"Tiempo Km. 5 (Minutos)\"])\n",
    "    | (data[\"Tiempo Km. 2,5 (Minutos)\"] > data[\"Tiempo Km. 7,5 (Minutos)\"])\n",
    "    | (data[\"Tiempo Km. 5 (Minutos)\"] > data[\"Tiempo Km. 7,5 (Minutos)\"])\n",
    "    | (data[\"Tiempo Km. 2,5 (Minutos)\"] > data[\"Tiempo Km. 10 (Minutos)\"])\n",
    "    | (data[\"Tiempo Km. 5 (Minutos)\"] > data[\"Tiempo Km. 10 (Minutos)\"])\n",
    "    | (data[\"Tiempo Km. 7,5 (Minutos)\"] > data[\"Tiempo Km. 10 (Minutos)\"])\n",
    "    | (data.isnull().any(1))\n",
    ")"
   ]
  },
  {
   "cell_type": "code",
   "execution_count": 4,
   "id": "32f7c545",
   "metadata": {
    "execution": {
     "iopub.execute_input": "2022-01-04T19:40:09.712060Z",
     "iopub.status.busy": "2022-01-04T19:40:09.711766Z",
     "iopub.status.idle": "2022-01-04T19:40:09.718105Z",
     "shell.execute_reply": "2022-01-04T19:40:09.717834Z"
    }
   },
   "outputs": [
    {
     "data": {
      "text/html": [
       "<div>\n",
       "<style scoped>\n",
       "    .dataframe tbody tr th:only-of-type {\n",
       "        vertical-align: middle;\n",
       "    }\n",
       "\n",
       "    .dataframe tbody tr th {\n",
       "        vertical-align: top;\n",
       "    }\n",
       "\n",
       "    .dataframe thead th {\n",
       "        text-align: right;\n",
       "    }\n",
       "</style>\n",
       "<table border=\"1\" class=\"dataframe\">\n",
       "  <thead>\n",
       "    <tr style=\"text-align: right;\">\n",
       "      <th></th>\n",
       "      <th>Km. 2,5</th>\n",
       "      <th>Km. 5</th>\n",
       "      <th>Km. 7,5</th>\n",
       "      <th>Tiempo</th>\n",
       "    </tr>\n",
       "  </thead>\n",
       "  <tbody>\n",
       "    <tr>\n",
       "      <th>513</th>\n",
       "      <td>0:09:58</td>\n",
       "      <td>0:19:37</td>\n",
       "      <td>NaN</td>\n",
       "      <td>0:40:45</td>\n",
       "    </tr>\n",
       "    <tr>\n",
       "      <th>567</th>\n",
       "      <td>3:32:29</td>\n",
       "      <td>3:40:52</td>\n",
       "      <td>0:29:22</td>\n",
       "      <td>0:41:04</td>\n",
       "    </tr>\n",
       "    <tr>\n",
       "      <th>583</th>\n",
       "      <td>NaN</td>\n",
       "      <td>0:19:58</td>\n",
       "      <td>0:29:40</td>\n",
       "      <td>0:41:12</td>\n",
       "    </tr>\n",
       "    <tr>\n",
       "      <th>590</th>\n",
       "      <td>NaN</td>\n",
       "      <td>0:19:07</td>\n",
       "      <td>0:28:49</td>\n",
       "      <td>0:41:14</td>\n",
       "    </tr>\n",
       "    <tr>\n",
       "      <th>598</th>\n",
       "      <td>NaN</td>\n",
       "      <td>0:20:01</td>\n",
       "      <td>NaN</td>\n",
       "      <td>0:41:16</td>\n",
       "    </tr>\n",
       "    <tr>\n",
       "      <th>...</th>\n",
       "      <td>...</td>\n",
       "      <td>...</td>\n",
       "      <td>...</td>\n",
       "      <td>...</td>\n",
       "    </tr>\n",
       "    <tr>\n",
       "      <th>16386</th>\n",
       "      <td>NaN</td>\n",
       "      <td>NaN</td>\n",
       "      <td>NaN</td>\n",
       "      <td>2:45:47</td>\n",
       "    </tr>\n",
       "    <tr>\n",
       "      <th>16387</th>\n",
       "      <td>NaN</td>\n",
       "      <td>NaN</td>\n",
       "      <td>NaN</td>\n",
       "      <td>2:47:34</td>\n",
       "    </tr>\n",
       "    <tr>\n",
       "      <th>16388</th>\n",
       "      <td>NaN</td>\n",
       "      <td>NaN</td>\n",
       "      <td>NaN</td>\n",
       "      <td>2:55:14</td>\n",
       "    </tr>\n",
       "    <tr>\n",
       "      <th>16389</th>\n",
       "      <td>NaN</td>\n",
       "      <td>2:25:46</td>\n",
       "      <td>NaN</td>\n",
       "      <td>3:03:26</td>\n",
       "    </tr>\n",
       "    <tr>\n",
       "      <th>16390</th>\n",
       "      <td>NaN</td>\n",
       "      <td>2:48:27</td>\n",
       "      <td>2:59:43</td>\n",
       "      <td>3:13:15</td>\n",
       "    </tr>\n",
       "  </tbody>\n",
       "</table>\n",
       "<p>254 rows × 4 columns</p>\n",
       "</div>"
      ],
      "text/plain": [
       "       Km. 2,5    Km. 5  Km. 7,5   Tiempo\n",
       "513    0:09:58  0:19:37      NaN  0:40:45\n",
       "567    3:32:29  3:40:52  0:29:22  0:41:04\n",
       "583        NaN  0:19:58  0:29:40  0:41:12\n",
       "590        NaN  0:19:07  0:28:49  0:41:14\n",
       "598        NaN  0:20:01      NaN  0:41:16\n",
       "...        ...      ...      ...      ...\n",
       "16386      NaN      NaN      NaN  2:45:47\n",
       "16387      NaN      NaN      NaN  2:47:34\n",
       "16388      NaN      NaN      NaN  2:55:14\n",
       "16389      NaN  2:25:46      NaN  3:03:26\n",
       "16390      NaN  2:48:27  2:59:43  3:13:15\n",
       "\n",
       "[254 rows x 4 columns]"
      ]
     },
     "execution_count": 4,
     "metadata": {},
     "output_type": "execute_result"
    }
   ],
   "source": [
    "data[wrong_time][[\"Km. 2,5\", \"Km. 5\", \"Km. 7,5\", \"Tiempo\"]]"
   ]
  },
  {
   "cell_type": "code",
   "execution_count": 5,
   "id": "ecbb4a8a",
   "metadata": {
    "execution": {
     "iopub.execute_input": "2022-01-04T19:40:09.720105Z",
     "iopub.status.busy": "2022-01-04T19:40:09.719819Z",
     "iopub.status.idle": "2022-01-04T19:40:09.722640Z",
     "shell.execute_reply": "2022-01-04T19:40:09.722865Z"
    }
   },
   "outputs": [],
   "source": [
    "data = data[~wrong_time]"
   ]
  },
  {
   "cell_type": "code",
   "execution_count": 6,
   "id": "e9c92a47",
   "metadata": {
    "execution": {
     "iopub.execute_input": "2022-01-04T19:40:09.725079Z",
     "iopub.status.busy": "2022-01-04T19:40:09.724783Z",
     "iopub.status.idle": "2022-01-04T19:40:09.726507Z",
     "shell.execute_reply": "2022-01-04T19:40:09.726213Z"
    }
   },
   "outputs": [
    {
     "data": {
      "text/plain": [
       "(16137, 21)"
      ]
     },
     "execution_count": 6,
     "metadata": {},
     "output_type": "execute_result"
    }
   ],
   "source": [
    "data.shape"
   ]
  },
  {
   "cell_type": "code",
   "execution_count": 7,
   "id": "7dbb5c3a",
   "metadata": {
    "execution": {
     "iopub.execute_input": "2022-01-04T19:40:09.735789Z",
     "iopub.status.busy": "2022-01-04T19:40:09.727953Z",
     "iopub.status.idle": "2022-01-04T19:40:09.739807Z",
     "shell.execute_reply": "2022-01-04T19:40:09.740037Z"
    }
   },
   "outputs": [
    {
     "data": {
      "text/html": [
       "<div>\n",
       "<style scoped>\n",
       "    .dataframe tbody tr th:only-of-type {\n",
       "        vertical-align: middle;\n",
       "    }\n",
       "\n",
       "    .dataframe tbody tr th {\n",
       "        vertical-align: top;\n",
       "    }\n",
       "\n",
       "    .dataframe thead th {\n",
       "        text-align: right;\n",
       "    }\n",
       "</style>\n",
       "<table border=\"1\" class=\"dataframe\">\n",
       "  <thead>\n",
       "    <tr style=\"text-align: right;\">\n",
       "      <th></th>\n",
       "      <th>Dorsal</th>\n",
       "      <th>Nombre</th>\n",
       "      <th>Categ.</th>\n",
       "      <th>Puesto</th>\n",
       "      <th>P.Cat.</th>\n",
       "      <th>Tiempo</th>\n",
       "      <th>Ritmo Km.</th>\n",
       "      <th>Km. 2,5</th>\n",
       "      <th>Km. 5</th>\n",
       "      <th>Km. 7,5</th>\n",
       "      <th>...</th>\n",
       "      <th>Sexo</th>\n",
       "      <th>Tiempo Km. 2,5 (Minutos)</th>\n",
       "      <th>Tiempo Km. 5 (Minutos)</th>\n",
       "      <th>Tiempo Km. 7,5 (Minutos)</th>\n",
       "      <th>Tiempo Km. 10 (Minutos)</th>\n",
       "      <th>Ritmo Km. (Minutos)</th>\n",
       "      <th>Ritmo Min/Km. 2,5</th>\n",
       "      <th>Ritmo Min/Km. 5</th>\n",
       "      <th>Ritmo Min/Km. 7,5</th>\n",
       "      <th>Ritmo Min/Km. 10</th>\n",
       "    </tr>\n",
       "  </thead>\n",
       "  <tbody>\n",
       "    <tr>\n",
       "      <th>5745</th>\n",
       "      <td>31471</td>\n",
       "      <td>Maximiliano Greco</td>\n",
       "      <td>Sénior M</td>\n",
       "      <td>5746</td>\n",
       "      <td>1449</td>\n",
       "      <td>0:52:56</td>\n",
       "      <td>5'17\"/km</td>\n",
       "      <td>0:12:34</td>\n",
       "      <td>0:24:45</td>\n",
       "      <td>0:37:06</td>\n",
       "      <td>...</td>\n",
       "      <td>M</td>\n",
       "      <td>12.57</td>\n",
       "      <td>24.75</td>\n",
       "      <td>37.10</td>\n",
       "      <td>52.93</td>\n",
       "      <td>5.28</td>\n",
       "      <td>5.03</td>\n",
       "      <td>4.95</td>\n",
       "      <td>4.95</td>\n",
       "      <td>5.29</td>\n",
       "    </tr>\n",
       "  </tbody>\n",
       "</table>\n",
       "<p>1 rows × 21 columns</p>\n",
       "</div>"
      ],
      "text/plain": [
       "      Dorsal             Nombre    Categ.  Puesto  P.Cat.   Tiempo Ritmo Km.  \\\n",
       "5745   31471  Maximiliano Greco  Sénior M    5746    1449  0:52:56  5'17\"/km   \n",
       "\n",
       "      Km. 2,5    Km. 5  Km. 7,5  ... Sexo Tiempo Km. 2,5 (Minutos)  \\\n",
       "5745  0:12:34  0:24:45  0:37:06  ...    M                    12.57   \n",
       "\n",
       "      Tiempo Km. 5 (Minutos)  Tiempo Km. 7,5 (Minutos)  \\\n",
       "5745                   24.75                     37.10   \n",
       "\n",
       "      Tiempo Km. 10 (Minutos)  Ritmo Km. (Minutos)  Ritmo Min/Km. 2,5  \\\n",
       "5745                    52.93                 5.28               5.03   \n",
       "\n",
       "      Ritmo Min/Km. 5  Ritmo Min/Km. 7,5  Ritmo Min/Km. 10  \n",
       "5745             4.95               4.95              5.29  \n",
       "\n",
       "[1 rows x 21 columns]"
      ]
     },
     "execution_count": 7,
     "metadata": {},
     "output_type": "execute_result"
    }
   ],
   "source": [
    "mine = get_mine(data)\n",
    "mine"
   ]
  },
  {
   "cell_type": "markdown",
   "id": "d059e48b",
   "metadata": {},
   "source": [
    "# Estadísticas"
   ]
  },
  {
   "cell_type": "code",
   "execution_count": 8,
   "id": "99b9e8e7",
   "metadata": {
    "execution": {
     "iopub.execute_input": "2022-01-04T19:40:09.742147Z",
     "iopub.status.busy": "2022-01-04T19:40:09.741862Z",
     "iopub.status.idle": "2022-01-04T19:40:09.743243Z",
     "shell.execute_reply": "2022-01-04T19:40:09.743005Z"
    }
   },
   "outputs": [],
   "source": [
    "tiempo_all = data[\"Tiempo Km. 10 (Minutos)\"]\n",
    "tiempo_mine = mine[\"Tiempo Km. 10 (Minutos)\"]"
   ]
  },
  {
   "cell_type": "markdown",
   "id": "bd1ed81d",
   "metadata": {},
   "source": [
    "### Cuánto tiempo tardé en completar la carrera?"
   ]
  },
  {
   "cell_type": "code",
   "execution_count": 9,
   "id": "9ddd7ad0",
   "metadata": {
    "execution": {
     "iopub.execute_input": "2022-01-04T19:40:09.745298Z",
     "iopub.status.busy": "2022-01-04T19:40:09.744990Z",
     "iopub.status.idle": "2022-01-04T19:40:09.746539Z",
     "shell.execute_reply": "2022-01-04T19:40:09.746765Z"
    }
   },
   "outputs": [
    {
     "data": {
      "text/plain": [
       "'52.93 Minutos'"
      ]
     },
     "execution_count": 9,
     "metadata": {},
     "output_type": "execute_result"
    }
   ],
   "source": [
    "f\"{tiempo_mine.item():.2f} Minutos\""
   ]
  },
  {
   "cell_type": "markdown",
   "id": "43b4fd3d",
   "metadata": {},
   "source": [
    "### De media, cuánto tardaron los corredores en completar la carrera ?"
   ]
  },
  {
   "cell_type": "code",
   "execution_count": 10,
   "id": "36ccb422",
   "metadata": {
    "execution": {
     "iopub.execute_input": "2022-01-04T19:40:09.748574Z",
     "iopub.status.busy": "2022-01-04T19:40:09.748286Z",
     "iopub.status.idle": "2022-01-04T19:40:09.750208Z",
     "shell.execute_reply": "2022-01-04T19:40:09.750435Z"
    }
   },
   "outputs": [
    {
     "data": {
      "text/plain": [
       "'57.87 Minutos'"
      ]
     },
     "execution_count": 10,
     "metadata": {},
     "output_type": "execute_result"
    }
   ],
   "source": [
    "f\"{tiempo_all.mean():.2f} Minutos\""
   ]
  },
  {
   "cell_type": "markdown",
   "id": "fb3f018f",
   "metadata": {},
   "source": [
    "### En qué percetil está mi tiempo ?"
   ]
  },
  {
   "cell_type": "code",
   "execution_count": 11,
   "id": "dae2f64a",
   "metadata": {
    "execution": {
     "iopub.execute_input": "2022-01-04T19:40:09.752261Z",
     "iopub.status.busy": "2022-01-04T19:40:09.751974Z",
     "iopub.status.idle": "2022-01-04T19:40:09.754056Z",
     "shell.execute_reply": "2022-01-04T19:40:09.753814Z"
    }
   },
   "outputs": [
    {
     "data": {
      "text/plain": [
       "'35.15%'"
      ]
     },
     "execution_count": 11,
     "metadata": {},
     "output_type": "execute_result"
    }
   ],
   "source": [
    "f\"{stats.percentileofscore(tiempo_all, tiempo_mine.item()):.2f}%\""
   ]
  },
  {
   "cell_type": "markdown",
   "id": "7fad581c",
   "metadata": {},
   "source": [
    "### Cuánto tardó el corredor mediano ?"
   ]
  },
  {
   "cell_type": "code",
   "execution_count": 12,
   "id": "463f5ac7",
   "metadata": {
    "execution": {
     "iopub.execute_input": "2022-01-04T19:40:09.755903Z",
     "iopub.status.busy": "2022-01-04T19:40:09.755613Z",
     "iopub.status.idle": "2022-01-04T19:40:09.757733Z",
     "shell.execute_reply": "2022-01-04T19:40:09.757958Z"
    }
   },
   "outputs": [
    {
     "data": {
      "text/plain": [
       "'56.78 Minutos'"
      ]
     },
     "execution_count": 12,
     "metadata": {},
     "output_type": "execute_result"
    }
   ],
   "source": [
    "f\"{tiempo_all.median():.2f} Minutos\""
   ]
  },
  {
   "cell_type": "markdown",
   "id": "c645a190",
   "metadata": {},
   "source": [
    "### Cuánto tardó el corredor que tardó menos que el 80% ?"
   ]
  },
  {
   "cell_type": "code",
   "execution_count": 13,
   "id": "b0ab6f2f",
   "metadata": {
    "execution": {
     "iopub.execute_input": "2022-01-04T19:40:09.759917Z",
     "iopub.status.busy": "2022-01-04T19:40:09.759626Z",
     "iopub.status.idle": "2022-01-04T19:40:09.762147Z",
     "shell.execute_reply": "2022-01-04T19:40:09.761905Z"
    },
    "lines_to_next_cell": 2
   },
   "outputs": [
    {
     "data": {
      "text/plain": [
       "'48.70 Minutos'"
      ]
     },
     "execution_count": 13,
     "metadata": {},
     "output_type": "execute_result"
    }
   ],
   "source": [
    "f\"{tiempo_all.quantile(0.2):.2f} Minutos\""
   ]
  },
  {
   "cell_type": "markdown",
   "id": "6d49d152",
   "metadata": {},
   "source": [
    "# Ritmo\n"
   ]
  },
  {
   "cell_type": "code",
   "execution_count": 14,
   "id": "68c8299e",
   "metadata": {
    "execution": {
     "iopub.execute_input": "2022-01-04T19:40:09.765191Z",
     "iopub.status.busy": "2022-01-04T19:40:09.764885Z",
     "iopub.status.idle": "2022-01-04T19:40:09.766467Z",
     "shell.execute_reply": "2022-01-04T19:40:09.766693Z"
    }
   },
   "outputs": [
    {
     "data": {
      "text/plain": [
       "Ritmo Min/Km. 2,5   5.03\n",
       "Ritmo Min/Km. 5     4.95\n",
       "Ritmo Min/Km. 7,5   4.95\n",
       "Ritmo Min/Km. 10    5.29\n",
       "Name: 5745, dtype: float64"
      ]
     },
     "execution_count": 14,
     "metadata": {},
     "output_type": "execute_result"
    }
   ],
   "source": [
    "mine[RITMOS].iloc[0]"
   ]
  },
  {
   "cell_type": "code",
   "execution_count": 15,
   "id": "90ec1a16",
   "metadata": {
    "execution": {
     "iopub.execute_input": "2022-01-04T19:40:09.769078Z",
     "iopub.status.busy": "2022-01-04T19:40:09.768783Z",
     "iopub.status.idle": "2022-01-04T19:40:09.771409Z",
     "shell.execute_reply": "2022-01-04T19:40:09.771633Z"
    }
   },
   "outputs": [
    {
     "data": {
      "text/plain": [
       "Ritmo Min/Km. 2,5   5.63\n",
       "Ritmo Min/Km. 5     5.59\n",
       "Ritmo Min/Km. 7,5   5.54\n",
       "Ritmo Min/Km. 10    5.79\n",
       "dtype: float64"
      ]
     },
     "execution_count": 15,
     "metadata": {},
     "output_type": "execute_result"
    }
   ],
   "source": [
    "data[RITMOS].mean()"
   ]
  },
  {
   "cell_type": "code",
   "execution_count": 16,
   "id": "a47b39a6",
   "metadata": {
    "execution": {
     "iopub.execute_input": "2022-01-04T19:40:09.774320Z",
     "iopub.status.busy": "2022-01-04T19:40:09.774027Z",
     "iopub.status.idle": "2022-01-04T19:40:09.777384Z",
     "shell.execute_reply": "2022-01-04T19:40:09.777127Z"
    }
   },
   "outputs": [
    {
     "data": {
      "text/plain": [
       "Ritmo Min/Km. 2,5   1.09\n",
       "Ritmo Min/Km. 5     1.06\n",
       "Ritmo Min/Km. 7,5   1.04\n",
       "Ritmo Min/Km. 10    1.09\n",
       "dtype: float64"
      ]
     },
     "execution_count": 16,
     "metadata": {},
     "output_type": "execute_result"
    }
   ],
   "source": [
    "data[RITMOS].std()"
   ]
  },
  {
   "cell_type": "markdown",
   "id": "002994d3",
   "metadata": {},
   "source": [
    "# Plot"
   ]
  },
  {
   "cell_type": "code",
   "execution_count": 17,
   "id": "0fc861aa",
   "metadata": {
    "execution": {
     "iopub.execute_input": "2022-01-04T19:40:09.779333Z",
     "iopub.status.busy": "2022-01-04T19:40:09.779046Z",
     "iopub.status.idle": "2022-01-04T19:40:11.698565Z",
     "shell.execute_reply": "2022-01-04T19:40:11.698263Z"
    },
    "lines_to_next_cell": 2
   },
   "outputs": [
    {
     "data": {
      "image/png": "[encoded data removed]",
      "text/plain": [
       "<Figure size 540x432 with 4 Axes>"
      ]
     },
     "metadata": {
      "needs_background": "light"
     },
     "output_type": "display_data"
    }
   ],
   "source": [
    "plot_grid(data)"
   ]
  },
  {
   "cell_type": "code",
   "execution_count": 18,
   "id": "abafac90",
   "metadata": {
    "execution": {
     "iopub.execute_input": "2022-01-04T19:40:11.704500Z",
     "iopub.status.busy": "2022-01-04T19:40:11.704194Z",
     "iopub.status.idle": "2022-01-04T19:40:11.768900Z",
     "shell.execute_reply": "2022-01-04T19:40:11.768651Z"
    }
   },
   "outputs": [],
   "source": [
    "mine[TIEMPOS].iloc[0]\n",
    "categ_mine = mine[\"Edad\"].item()\n",
    "data.query(\"Edad == @categ_mine\")\n",
    "data.groupby(\"Edad\").mean()[RITMOS].sort_values(RITMOS[-1])\n",
    "data.groupby(\"Edad\").std()[RITMOS]\n",
    "data.groupby(\"Edad\").count()[RITMOS]\n",
    "data.groupby(\"Sexo\").mean()[RITMOS].sort_values(RITMOS[-1])\n",
    "data.groupby(\"Sexo\").count()[RITMOS]\n",
    "data.groupby([\"Sexo\", \"Edad\"]).mean()[TIEMPOS].sort_values(TIEMPOS[-1]).sort_index()\n",
    "df = data[RITMOS + [\"Sexo\", \"Edad\"]].melt([\"Sexo\", \"Edad\"])"
   ]
  },
  {
   "cell_type": "code",
   "execution_count": 19,
   "id": "ccafd974",
   "metadata": {
    "execution": {
     "iopub.execute_input": "2022-01-04T19:40:11.776733Z",
     "iopub.status.busy": "2022-01-04T19:40:11.776440Z",
     "iopub.status.idle": "2022-01-04T19:40:12.126416Z",
     "shell.execute_reply": "2022-01-04T19:40:12.126676Z"
    },
    "lines_to_next_cell": 2
   },
   "outputs": [
    {
     "data": {
      "image/png": "[encoded data removed]",
      "text/plain": [
       "<Figure size 432x288 with 1 Axes>"
      ]
     },
     "metadata": {
      "needs_background": "light"
     },
     "output_type": "display_data"
    }
   ],
   "source": [
    "sns.violinplot(data=df, y=\"value\", hue='Sexo', x=\"variable\", kind='violin', split=True)\n",
    "plt.tight_layout()"
   ]
  },
  {
   "cell_type": "markdown",
   "id": "1e9ae42d",
   "metadata": {},
   "source": [
    "## Andando\n",
    "\n",
    "Cúantas personas realizaron la carrera andando ?\n",
    "\n",
    "> Ver https://www.healthline.com/health/exercise-fitness/average-walking-speed"
   ]
  },
  {
   "cell_type": "code",
   "execution_count": 20,
   "id": "4ef6703c",
   "metadata": {
    "execution": {
     "iopub.execute_input": "2022-01-04T19:40:12.129626Z",
     "iopub.status.busy": "2022-01-04T19:40:12.128896Z",
     "iopub.status.idle": "2022-01-04T19:40:12.131391Z",
     "shell.execute_reply": "2022-01-04T19:40:12.131638Z"
    },
    "lines_to_next_cell": 2
   },
   "outputs": [
    {
     "data": {
      "text/plain": [
       "7"
      ]
     },
     "execution_count": 20,
     "metadata": {},
     "output_type": "execute_result"
    }
   ],
   "source": [
    "len(data[data[\"Ritmo Min/Km. 10\"] > 11.6])"
   ]
  },
  {
   "cell_type": "markdown",
   "id": "6b16b578",
   "metadata": {},
   "source": [
    "Cuántas personas no terminaron la carrera?"
   ]
  },
  {
   "cell_type": "code",
   "execution_count": 21,
   "id": "7720fa88",
   "metadata": {
    "execution": {
     "iopub.execute_input": "2022-01-04T19:40:12.134095Z",
     "iopub.status.busy": "2022-01-04T19:40:12.133633Z",
     "iopub.status.idle": "2022-01-04T19:40:12.135872Z",
     "shell.execute_reply": "2022-01-04T19:40:12.136118Z"
    }
   },
   "outputs": [
    {
     "data": {
      "text/plain": [
       "0"
      ]
     },
     "execution_count": 21,
     "metadata": {},
     "output_type": "execute_result"
    }
   ],
   "source": [
    "data[\"Ritmo Min/Km. 10\"].isnull().sum()"
   ]
  },
  {
   "cell_type": "markdown",
   "id": "71cb2c02",
   "metadata": {},
   "source": [
    "# Categorías\n",
    "\n",
    "Se establecen las siguientes categorías:\n",
    "- Absoluta Popular masculino y femenino *\n",
    "- Júnior masculino y femenino\n",
    "Nacidos en los años 2002, 2003, 2004 y 2005 (16, 17, 18 y 19 años cumplidos).\n",
    "- Promesas masculinas y femeninas\n",
    "Nacidos en los años 1999, 2000 y 2001 (20, 21 y 22 años cumplidos).\n",
    "- Senior masculino y femenino\n",
    "Nacidos entre el año 1987 y 1998.\n",
    "\n",
    "## Veteranos masculino y femenino\n",
    "\n",
    "- M-35 de 35 a 44 años cumplidos (nacidos entre 1977 y 1986).\n",
    "- M-45 de 45 a 54 años cumplidos (nacidos entre 1967 y 1976).\n",
    "- M-55 de 55 a 64 (nacidos entre el 1957 y 1966).\n",
    "- M-65 de 65 en adelante (nacidos en 1956 y anteriores)\n",
    "Handbike y sillas de atletismo masculino y femenino\n",
    "(*) Esta categoría serán entregados los trofeos el día de la prueba en el\n",
    "Estadio de Vallecas al concluir la Carrera Nationale-Nederlanden San\n",
    "Silvestre Vallecana Internacional. Se habilitará una salida especial para las\n",
    "categorías handbike y sillas de atletismo antes de la salida oficial de las\n",
    "16:20. Se ruega a los participantes de estas categorías hagan uso de esta\n",
    "salida con el fin de poder correr mejor al encontrarse el recorrido\n",
    "totalmente libre.\n",
    "> fuente: https://www.sansilvestrevallecana.com/descargas/ReglamentoPopular.pdf"
   ]
  },
  {
   "cell_type": "markdown",
   "id": "2a6e4e2f",
   "metadata": {},
   "source": [
    "### Cómo evolucionó la carrera (en media) por categorías?"
   ]
  },
  {
   "cell_type": "code",
   "execution_count": 22,
   "id": "eb6fe2b0",
   "metadata": {
    "execution": {
     "iopub.execute_input": "2022-01-04T19:40:12.142590Z",
     "iopub.status.busy": "2022-01-04T19:40:12.142271Z",
     "iopub.status.idle": "2022-01-04T19:40:12.350474Z",
     "shell.execute_reply": "2022-01-04T19:40:12.350173Z"
    }
   },
   "outputs": [
    {
     "data": {
      "image/png": "[encoded data removed]",
      "text/plain": [
       "<Figure size 864x576 with 1 Axes>"
      ]
     },
     "metadata": {
      "needs_background": "light"
     },
     "output_type": "display_data"
    }
   ],
   "source": [
    "df = data.groupby(\"Categ.\").mean()[TIEMPOS].rank().sort_values(TIEMPOS[-1], ascending=True).T\n",
    "kw = dict(linewidth=4, markersize=8, marker=\"o\", legend=False, figsize=(12,8))\n",
    "ax = df.plot(**kw)\n",
    "t_kw = dict(horizontalalignment='left', verticalalignment='center', fontsize=20)\n",
    "plt.text(3.1, 0, \"Categoría\", **t_kw, fontweight=\"bold\")\n",
    "for c in df.columns:\n",
    "    plt.text(3.1, df.loc[TIEMPOS[-1], c], c, **t_kw)\n",
    "ax.invert_yaxis()\n",
    "ax.set_yticks(range(1, 15))\n",
    "ax.spines['top'].set_visible(False)\n",
    "ax.spines['right'].set_visible(False)\n",
    "plt.ylabel(\"Posición\", fontsize=20)\n",
    "plt.xticks(range(4), labels=[\"Km 2,5\", \"Km 5\", \"Km 7,5\", \"Km 10\"], rotation=25, fontsize=20)\n",
    "plt.yticks(fontsize=20)\n",
    "plt.suptitle(\"Posiciones por etapas de cada categoría\", fontsize=30)\n",
    "plt.set_cmap(\"tab20\")\n",
    "plt.tight_layout()\n",
    "plt.show()"
   ]
  },
  {
   "cell_type": "code",
   "execution_count": null,
   "id": "5625ea57",
   "metadata": {},
   "outputs": [],
   "source": []
  },
  {
   "cell_type": "markdown",
   "id": "86264fb7",
   "metadata": {},
   "source": [
    "Los que mas escalaron posiciones"
   ]
  },
  {
   "cell_type": "code",
   "execution_count": 23,
   "id": "1ad5efe6",
   "metadata": {
    "execution": {
     "iopub.execute_input": "2022-01-04T19:40:12.354064Z",
     "iopub.status.busy": "2022-01-04T19:40:12.353756Z",
     "iopub.status.idle": "2022-01-04T19:40:12.371531Z",
     "shell.execute_reply": "2022-01-04T19:40:12.371220Z"
    }
   },
   "outputs": [],
   "source": [
    "df = data[TIEMPOS].rank().query(\"`Tiempo Km. 2,5 (Minutos)` - `Tiempo Km. 10 (Minutos)` > 9000\")\n",
    "data.loc[df.index][RITMOS]\n",
    "df = data.groupby(\"Categ.\", group_keys=False).apply(lambda x: x.head(5))\n",
    "df = df.set_index(\"Nombre\")[TIEMPOS]\n",
    "df.loc[\"Yo\"] = mine[TIEMPOS].iloc[0]\n",
    "df = df.rank().T\n",
    "# kw = dict(linewidth=4, markersize=8, marker=\"o\", legend=False, figsize=(12,8))\n",
    "# ax = df.plot(**kw)\n",
    "# t_kw = dict(horizontalalignment='left', verticalalignment='center', fontsize=20)\n",
    "# plt.text(3.1, 0, \"Categoría\", **t_kw, fontweight=\"bold\")\n",
    "# for c in df.columns:\n",
    "#     plt.text(3.1, df.loc[TIEMPOS[-1], c], c, **t_kw)\n",
    "# ax.invert_yaxis()\n",
    "# ax.set_yticks(range(1, df.shape[1]))\n",
    "# ax.spines['top'].set_visible(False)\n",
    "# ax.spines['right'].set_visible(False)\n",
    "# ax.set_ylabel(\"Posición\", fontsize=20)\n",
    "# plt.suptitle(\"Posiciones por etapas de cada categoría\", fontsize=30)\n",
    "# plt.set_cmap(\"tab20\")\n",
    "# plt.tight_layout()\n",
    "# plt.show()"
   ]
  },
  {
   "cell_type": "code",
   "execution_count": 24,
   "id": "3d5cdc71",
   "metadata": {
    "execution": {
     "iopub.execute_input": "2022-01-04T19:40:12.375899Z",
     "iopub.status.busy": "2022-01-04T19:40:12.375603Z",
     "iopub.status.idle": "2022-01-04T19:40:12.622703Z",
     "shell.execute_reply": "2022-01-04T19:40:12.622438Z"
    }
   },
   "outputs": [
    {
     "data": {
      "text/plain": [
       "<AxesSubplot:ylabel='Categ.'>"
      ]
     },
     "execution_count": 24,
     "metadata": {},
     "output_type": "execute_result"
    },
    {
     "data": {
      "image/png": "[encoded data removed]",
      "text/plain": [
       "<Figure size 432x288 with 2 Axes>"
      ]
     },
     "metadata": {
      "needs_background": "light"
     },
     "output_type": "display_data"
    }
   ],
   "source": [
    "import seaborn as sns\n",
    "df = data.groupby(\"Categ.\").mean()[RITMOS]\n",
    "sns.heatmap(df, annot=True)\n",
    "# data.groupby(\"Categ.\").mean()[RITMOS]"
   ]
  }
 ],
 "metadata": {
  "jupytext": {
   "encoding": "# -*- coding: utf-8 -*-",
   "formats": "ipynb,py,md"
  },
  "kernelspec": {
   "display_name": "Python 3 (ipykernel)",
   "language": "python",
   "name": "python3"
  },
  "language_info": {
   "codemirror_mode": {
    "name": "ipython",
    "version": 3
   },
   "file_extension": ".py",
   "mimetype": "text/x-python",
   "name": "python",
   "nbconvert_exporter": "python",
   "pygments_lexer": "ipython3",
   "version": "3.8.12"
  }
 },
 "nbformat": 4,
 "nbformat_minor": 5
}
